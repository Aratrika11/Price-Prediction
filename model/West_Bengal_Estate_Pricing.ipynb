{
 "cells": [
  {
   "cell_type": "code",
   "execution_count": 1,
   "metadata": {
    "id": "KRNdgiPdWD7W"
   },
   "outputs": [
    {
     "name": "stderr",
     "output_type": "stream",
     "text": [
      "C:\\Users\\user\\AppData\\Local\\Temp\\ipykernel_16028\\1219767664.py:1: DeprecationWarning: \n",
      "Pyarrow will become a required dependency of pandas in the next major release of pandas (pandas 3.0),\n",
      "(to allow more performant data types, such as the Arrow string type, and better interoperability with other libraries)\n",
      "but was not found to be installed on your system.\n",
      "If this would cause problems for you,\n",
      "please provide us feedback at https://github.com/pandas-dev/pandas/issues/54466\n",
      "        \n",
      "  import pandas as pd\n"
     ]
    }
   ],
   "source": [
    "import pandas as pd\n",
    "import numpy as np\n",
    "from matplotlib import pyplot as plt\n",
    "%matplotlib inline\n",
    "import matplotlib\n",
    "matplotlib.rcParams[\"figure.figsize\"]=(20,10)"
   ]
  },
  {
   "cell_type": "code",
   "execution_count": 2,
   "metadata": {
    "colab": {
     "base_uri": "https://localhost:8080/",
     "height": 330
    },
    "id": "UZu5FNEGXGn7",
    "outputId": "96f362eb-a518-43c4-e5d1-1b639998d304"
   },
   "outputs": [
    {
     "data": {
      "text/html": [
       "<div>\n",
       "<style scoped>\n",
       "    .dataframe tbody tr th:only-of-type {\n",
       "        vertical-align: middle;\n",
       "    }\n",
       "\n",
       "    .dataframe tbody tr th {\n",
       "        vertical-align: top;\n",
       "    }\n",
       "\n",
       "    .dataframe thead th {\n",
       "        text-align: right;\n",
       "    }\n",
       "</style>\n",
       "<table border=\"1\" class=\"dataframe\">\n",
       "  <thead>\n",
       "    <tr style=\"text-align: right;\">\n",
       "      <th></th>\n",
       "      <th>Flat_Price</th>\n",
       "      <th>EMI_Starts</th>\n",
       "      <th>BHK</th>\n",
       "      <th>css-11nfaq3</th>\n",
       "      <th>Unnamed: 4</th>\n",
       "      <th>HOUSE_TYPE</th>\n",
       "      <th>Unnamed: 6</th>\n",
       "      <th>Unnamed: 7</th>\n",
       "      <th>Purpose</th>\n",
       "      <th>Location</th>\n",
       "      <th>Area_Type</th>\n",
       "      <th>Total_Sq.ft</th>\n",
       "      <th>Price_per_sq.ft</th>\n",
       "      <th>Owner_name</th>\n",
       "      <th>Owner_type</th>\n",
       "    </tr>\n",
       "  </thead>\n",
       "  <tbody>\n",
       "    <tr>\n",
       "      <th>0</th>\n",
       "      <td>₹8.5 Cr</td>\n",
       "      <td>₹4.22 Lacs</td>\n",
       "      <td>6 BHK</td>\n",
       "      <td>6.0</td>\n",
       "      <td>BHK</td>\n",
       "      <td>Independent House</td>\n",
       "      <td>Independent</td>\n",
       "      <td>House</td>\n",
       "      <td>for sale in</td>\n",
       "      <td>Ballygunge, Kolkata</td>\n",
       "      <td>Build Up Area</td>\n",
       "      <td>4200 sq.ft</td>\n",
       "      <td>₹20.24 K/sq.ft</td>\n",
       "      <td>Abhijit Chakraborty</td>\n",
       "      <td>Housing Expert</td>\n",
       "    </tr>\n",
       "    <tr>\n",
       "      <th>1</th>\n",
       "      <td>₹45.0 L</td>\n",
       "      <td>₹23.83 K</td>\n",
       "      <td>3 BHK</td>\n",
       "      <td>3.0</td>\n",
       "      <td>BHK</td>\n",
       "      <td>Independent House</td>\n",
       "      <td>Independent</td>\n",
       "      <td>House</td>\n",
       "      <td>for sale in</td>\n",
       "      <td>Barrackpore, Kolkata</td>\n",
       "      <td>Build Up Area</td>\n",
       "      <td>1400 sq.ft</td>\n",
       "      <td>₹3.21 K/sq.ft</td>\n",
       "      <td>Virtual Reality</td>\n",
       "      <td>Housing Expert</td>\n",
       "    </tr>\n",
       "    <tr>\n",
       "      <th>2</th>\n",
       "      <td>₹1.35 Cr</td>\n",
       "      <td>₹67.02 K</td>\n",
       "      <td>3 BHK</td>\n",
       "      <td>3.0</td>\n",
       "      <td>BHK</td>\n",
       "      <td>Independent House</td>\n",
       "      <td>Independent</td>\n",
       "      <td>House</td>\n",
       "      <td>for sale in</td>\n",
       "      <td>Santoshpur, Kolkata</td>\n",
       "      <td>Build Up Area</td>\n",
       "      <td>2500 sq.ft</td>\n",
       "      <td>₹5.40 K/sq.ft</td>\n",
       "      <td>AveNew Properties</td>\n",
       "      <td>Housing Expert</td>\n",
       "    </tr>\n",
       "    <tr>\n",
       "      <th>3</th>\n",
       "      <td>₹60.0 L</td>\n",
       "      <td>₹31.77 K</td>\n",
       "      <td>5 BHK</td>\n",
       "      <td>5.0</td>\n",
       "      <td>BHK</td>\n",
       "      <td>Independent House</td>\n",
       "      <td>Independent</td>\n",
       "      <td>House</td>\n",
       "      <td>for sale in</td>\n",
       "      <td>Sarsuna, Kolkata</td>\n",
       "      <td>Build Up Area</td>\n",
       "      <td>1100 sq.ft</td>\n",
       "      <td>₹5.45 K/sq.ft</td>\n",
       "      <td>Ganapati Real Estate</td>\n",
       "      <td>Housing Expert</td>\n",
       "    </tr>\n",
       "    <tr>\n",
       "      <th>4</th>\n",
       "      <td>₹52.0 L</td>\n",
       "      <td>₹27.54 K</td>\n",
       "      <td>4 BHK</td>\n",
       "      <td>4.0</td>\n",
       "      <td>BHK</td>\n",
       "      <td>Independent House</td>\n",
       "      <td>Independent</td>\n",
       "      <td>House</td>\n",
       "      <td>for sale in</td>\n",
       "      <td>Madhyamgram, Kolkata</td>\n",
       "      <td>Build Up Area</td>\n",
       "      <td>900 sq.ft</td>\n",
       "      <td>₹5.78 K/sq.ft</td>\n",
       "      <td>Third Eye Consulting</td>\n",
       "      <td>Housing Expert</td>\n",
       "    </tr>\n",
       "  </tbody>\n",
       "</table>\n",
       "</div>"
      ],
      "text/plain": [
       "  Flat_Price  EMI_Starts    BHK  css-11nfaq3 Unnamed: 4         HOUSE_TYPE  \\\n",
       "0    ₹8.5 Cr  ₹4.22 Lacs  6 BHK          6.0        BHK  Independent House   \n",
       "1    ₹45.0 L    ₹23.83 K  3 BHK          3.0        BHK  Independent House   \n",
       "2   ₹1.35 Cr    ₹67.02 K  3 BHK          3.0        BHK  Independent House   \n",
       "3    ₹60.0 L    ₹31.77 K  5 BHK          5.0        BHK  Independent House   \n",
       "4    ₹52.0 L    ₹27.54 K  4 BHK          4.0        BHK  Independent House   \n",
       "\n",
       "    Unnamed: 6 Unnamed: 7      Purpose              Location      Area_Type  \\\n",
       "0  Independent      House  for sale in   Ballygunge, Kolkata  Build Up Area   \n",
       "1  Independent      House  for sale in  Barrackpore, Kolkata  Build Up Area   \n",
       "2  Independent      House  for sale in   Santoshpur, Kolkata  Build Up Area   \n",
       "3  Independent      House  for sale in      Sarsuna, Kolkata  Build Up Area   \n",
       "4  Independent      House  for sale in  Madhyamgram, Kolkata  Build Up Area   \n",
       "\n",
       "  Total_Sq.ft Price_per_sq.ft            Owner_name      Owner_type  \n",
       "0  4200 sq.ft  ₹20.24 K/sq.ft   Abhijit Chakraborty  Housing Expert  \n",
       "1  1400 sq.ft   ₹3.21 K/sq.ft       Virtual Reality  Housing Expert  \n",
       "2  2500 sq.ft   ₹5.40 K/sq.ft     AveNew Properties  Housing Expert  \n",
       "3  1100 sq.ft   ₹5.45 K/sq.ft  Ganapati Real Estate  Housing Expert  \n",
       "4   900 sq.ft   ₹5.78 K/sq.ft  Third Eye Consulting  Housing Expert  "
      ]
     },
     "execution_count": 2,
     "metadata": {},
     "output_type": "execute_result"
    }
   ],
   "source": [
    "ds=pd.read_csv(\"House_Price.csv\")\n",
    "ds.head()"
   ]
  },
  {
   "cell_type": "code",
   "execution_count": 3,
   "metadata": {
    "colab": {
     "base_uri": "https://localhost:8080/"
    },
    "id": "WiWn7FxzZdjB",
    "outputId": "a4452e85-0eb2-4b19-a82a-a42493e9cd26"
   },
   "outputs": [
    {
     "data": {
      "text/plain": [
       "Location\n",
       "Abdalpur, Kolkata          2\n",
       "Adarsha Nagar, Kolkata     2\n",
       "Agarpara, Kolkata         38\n",
       "Airport, Kolkata           4\n",
       "Alipore, Kolkata          24\n",
       "                          ..\n",
       "Ultadanga, Kolkata         2\n",
       "Uttarbhag, Kolkata         2\n",
       "VIP Nagar, Kolkata         4\n",
       "Vedic Village, Kolkata     4\n",
       "Ward No 113, Kolkata      12\n",
       "Name: Location, Length: 201, dtype: int64"
      ]
     },
     "execution_count": 3,
     "metadata": {},
     "output_type": "execute_result"
    }
   ],
   "source": [
    "#grouping by area_type\n",
    "ds.groupby('Location')['Location'].agg('count')"
   ]
  },
  {
   "cell_type": "code",
   "execution_count": 4,
   "metadata": {
    "colab": {
     "base_uri": "https://localhost:8080/",
     "height": 206
    },
    "id": "Grcs4JO6Z-Gx",
    "outputId": "9bef87d3-0b61-4c4f-aa89-9ff9ce32aeee"
   },
   "outputs": [
    {
     "data": {
      "text/html": [
       "<div>\n",
       "<style scoped>\n",
       "    .dataframe tbody tr th:only-of-type {\n",
       "        vertical-align: middle;\n",
       "    }\n",
       "\n",
       "    .dataframe tbody tr th {\n",
       "        vertical-align: top;\n",
       "    }\n",
       "\n",
       "    .dataframe thead th {\n",
       "        text-align: right;\n",
       "    }\n",
       "</style>\n",
       "<table border=\"1\" class=\"dataframe\">\n",
       "  <thead>\n",
       "    <tr style=\"text-align: right;\">\n",
       "      <th></th>\n",
       "      <th>Flat_Price</th>\n",
       "      <th>EMI_Starts</th>\n",
       "      <th>BHK</th>\n",
       "      <th>HOUSE_TYPE</th>\n",
       "      <th>Location</th>\n",
       "      <th>Total_Sq.ft</th>\n",
       "      <th>Price_per_sq.ft</th>\n",
       "    </tr>\n",
       "  </thead>\n",
       "  <tbody>\n",
       "    <tr>\n",
       "      <th>0</th>\n",
       "      <td>₹8.5 Cr</td>\n",
       "      <td>₹4.22 Lacs</td>\n",
       "      <td>6 BHK</td>\n",
       "      <td>Independent House</td>\n",
       "      <td>Ballygunge, Kolkata</td>\n",
       "      <td>4200 sq.ft</td>\n",
       "      <td>₹20.24 K/sq.ft</td>\n",
       "    </tr>\n",
       "    <tr>\n",
       "      <th>1</th>\n",
       "      <td>₹45.0 L</td>\n",
       "      <td>₹23.83 K</td>\n",
       "      <td>3 BHK</td>\n",
       "      <td>Independent House</td>\n",
       "      <td>Barrackpore, Kolkata</td>\n",
       "      <td>1400 sq.ft</td>\n",
       "      <td>₹3.21 K/sq.ft</td>\n",
       "    </tr>\n",
       "    <tr>\n",
       "      <th>2</th>\n",
       "      <td>₹1.35 Cr</td>\n",
       "      <td>₹67.02 K</td>\n",
       "      <td>3 BHK</td>\n",
       "      <td>Independent House</td>\n",
       "      <td>Santoshpur, Kolkata</td>\n",
       "      <td>2500 sq.ft</td>\n",
       "      <td>₹5.40 K/sq.ft</td>\n",
       "    </tr>\n",
       "    <tr>\n",
       "      <th>3</th>\n",
       "      <td>₹60.0 L</td>\n",
       "      <td>₹31.77 K</td>\n",
       "      <td>5 BHK</td>\n",
       "      <td>Independent House</td>\n",
       "      <td>Sarsuna, Kolkata</td>\n",
       "      <td>1100 sq.ft</td>\n",
       "      <td>₹5.45 K/sq.ft</td>\n",
       "    </tr>\n",
       "    <tr>\n",
       "      <th>4</th>\n",
       "      <td>₹52.0 L</td>\n",
       "      <td>₹27.54 K</td>\n",
       "      <td>4 BHK</td>\n",
       "      <td>Independent House</td>\n",
       "      <td>Madhyamgram, Kolkata</td>\n",
       "      <td>900 sq.ft</td>\n",
       "      <td>₹5.78 K/sq.ft</td>\n",
       "    </tr>\n",
       "  </tbody>\n",
       "</table>\n",
       "</div>"
      ],
      "text/plain": [
       "  Flat_Price  EMI_Starts    BHK         HOUSE_TYPE              Location  \\\n",
       "0    ₹8.5 Cr  ₹4.22 Lacs  6 BHK  Independent House   Ballygunge, Kolkata   \n",
       "1    ₹45.0 L    ₹23.83 K  3 BHK  Independent House  Barrackpore, Kolkata   \n",
       "2   ₹1.35 Cr    ₹67.02 K  3 BHK  Independent House   Santoshpur, Kolkata   \n",
       "3    ₹60.0 L    ₹31.77 K  5 BHK  Independent House      Sarsuna, Kolkata   \n",
       "4    ₹52.0 L    ₹27.54 K  4 BHK  Independent House  Madhyamgram, Kolkata   \n",
       "\n",
       "  Total_Sq.ft Price_per_sq.ft  \n",
       "0  4200 sq.ft  ₹20.24 K/sq.ft  \n",
       "1  1400 sq.ft   ₹3.21 K/sq.ft  \n",
       "2  2500 sq.ft   ₹5.40 K/sq.ft  \n",
       "3  1100 sq.ft   ₹5.45 K/sq.ft  \n",
       "4   900 sq.ft   ₹5.78 K/sq.ft  "
      ]
     },
     "execution_count": 4,
     "metadata": {},
     "output_type": "execute_result"
    }
   ],
   "source": [
    "ds2=ds.drop(['css-11nfaq3','Unnamed: 4','Unnamed: 6','Unnamed: 7','Purpose','Area_Type','Owner_name','Owner_type'],axis='columns')\n",
    "ds2.head()"
   ]
  },
  {
   "cell_type": "code",
   "execution_count": 5,
   "metadata": {
    "colab": {
     "base_uri": "https://localhost:8080/"
    },
    "id": "Ayp6kNU_hWat",
    "outputId": "4f69ed85-c302-4de9-e361-3876f74a3274"
   },
   "outputs": [
    {
     "data": {
      "text/plain": [
       "(3968, 7)"
      ]
     },
     "execution_count": 5,
     "metadata": {},
     "output_type": "execute_result"
    }
   ],
   "source": [
    "ds2.shape"
   ]
  },
  {
   "cell_type": "code",
   "execution_count": 6,
   "metadata": {
    "colab": {
     "base_uri": "https://localhost:8080/"
    },
    "id": "PAveVOcTavmY",
    "outputId": "a0451db0-b101-4cbf-d8e0-c897539ade49"
   },
   "outputs": [
    {
     "data": {
      "text/plain": [
       "Flat_Price         0\n",
       "EMI_Starts         0\n",
       "BHK                0\n",
       "HOUSE_TYPE         0\n",
       "Location           2\n",
       "Total_Sq.ft        0\n",
       "Price_per_sq.ft    0\n",
       "dtype: int64"
      ]
     },
     "execution_count": 6,
     "metadata": {},
     "output_type": "execute_result"
    }
   ],
   "source": [
    "#data_cleaning\n",
    "#finding null columns\n",
    "ds2.isnull().sum()"
   ]
  },
  {
   "cell_type": "code",
   "execution_count": 7,
   "metadata": {
    "colab": {
     "base_uri": "https://localhost:8080/"
    },
    "id": "JbDrWJPHbDzO",
    "outputId": "f74763de-3625-4445-e31e-0f784e203119"
   },
   "outputs": [
    {
     "data": {
      "text/plain": [
       "Flat_Price         0\n",
       "EMI_Starts         0\n",
       "BHK                0\n",
       "HOUSE_TYPE         0\n",
       "Location           0\n",
       "Total_Sq.ft        0\n",
       "Price_per_sq.ft    0\n",
       "dtype: int64"
      ]
     },
     "execution_count": 7,
     "metadata": {},
     "output_type": "execute_result"
    }
   ],
   "source": [
    "#dropping null rows\n",
    "ds3=ds2.dropna()\n",
    "ds3.isnull().sum()"
   ]
  },
  {
   "cell_type": "code",
   "execution_count": 8,
   "metadata": {
    "id": "vrkPqOF4bkUq"
   },
   "outputs": [],
   "source": [
    "ds3=ds3.rename(columns={ds3.columns[5]: 'Total_Sqft'})"
   ]
  },
  {
   "cell_type": "code",
   "execution_count": 9,
   "metadata": {
    "colab": {
     "base_uri": "https://localhost:8080/",
     "height": 206
    },
    "id": "xVsf9LH2XXmI",
    "outputId": "84cf12b7-d795-4142-f76b-0763e1171b82"
   },
   "outputs": [
    {
     "data": {
      "text/html": [
       "<div>\n",
       "<style scoped>\n",
       "    .dataframe tbody tr th:only-of-type {\n",
       "        vertical-align: middle;\n",
       "    }\n",
       "\n",
       "    .dataframe tbody tr th {\n",
       "        vertical-align: top;\n",
       "    }\n",
       "\n",
       "    .dataframe thead th {\n",
       "        text-align: right;\n",
       "    }\n",
       "</style>\n",
       "<table border=\"1\" class=\"dataframe\">\n",
       "  <thead>\n",
       "    <tr style=\"text-align: right;\">\n",
       "      <th></th>\n",
       "      <th>Flat_Price</th>\n",
       "      <th>EMI_Starts</th>\n",
       "      <th>BHK</th>\n",
       "      <th>HOUSE_TYPE</th>\n",
       "      <th>Location</th>\n",
       "      <th>Total_Sqft</th>\n",
       "      <th>Price_per_sq.ft</th>\n",
       "    </tr>\n",
       "  </thead>\n",
       "  <tbody>\n",
       "    <tr>\n",
       "      <th>0</th>\n",
       "      <td>₹8.5 Cr</td>\n",
       "      <td>₹4.22 Lacs</td>\n",
       "      <td>6 BHK</td>\n",
       "      <td>Independent House</td>\n",
       "      <td>Ballygunge, Kolkata</td>\n",
       "      <td>4200 sq.ft</td>\n",
       "      <td>₹20.24 K/sq.ft</td>\n",
       "    </tr>\n",
       "    <tr>\n",
       "      <th>1</th>\n",
       "      <td>₹45.0 L</td>\n",
       "      <td>₹23.83 K</td>\n",
       "      <td>3 BHK</td>\n",
       "      <td>Independent House</td>\n",
       "      <td>Barrackpore, Kolkata</td>\n",
       "      <td>1400 sq.ft</td>\n",
       "      <td>₹3.21 K/sq.ft</td>\n",
       "    </tr>\n",
       "    <tr>\n",
       "      <th>2</th>\n",
       "      <td>₹1.35 Cr</td>\n",
       "      <td>₹67.02 K</td>\n",
       "      <td>3 BHK</td>\n",
       "      <td>Independent House</td>\n",
       "      <td>Santoshpur, Kolkata</td>\n",
       "      <td>2500 sq.ft</td>\n",
       "      <td>₹5.40 K/sq.ft</td>\n",
       "    </tr>\n",
       "    <tr>\n",
       "      <th>3</th>\n",
       "      <td>₹60.0 L</td>\n",
       "      <td>₹31.77 K</td>\n",
       "      <td>5 BHK</td>\n",
       "      <td>Independent House</td>\n",
       "      <td>Sarsuna, Kolkata</td>\n",
       "      <td>1100 sq.ft</td>\n",
       "      <td>₹5.45 K/sq.ft</td>\n",
       "    </tr>\n",
       "    <tr>\n",
       "      <th>4</th>\n",
       "      <td>₹52.0 L</td>\n",
       "      <td>₹27.54 K</td>\n",
       "      <td>4 BHK</td>\n",
       "      <td>Independent House</td>\n",
       "      <td>Madhyamgram, Kolkata</td>\n",
       "      <td>900 sq.ft</td>\n",
       "      <td>₹5.78 K/sq.ft</td>\n",
       "    </tr>\n",
       "  </tbody>\n",
       "</table>\n",
       "</div>"
      ],
      "text/plain": [
       "  Flat_Price  EMI_Starts    BHK         HOUSE_TYPE              Location  \\\n",
       "0    ₹8.5 Cr  ₹4.22 Lacs  6 BHK  Independent House   Ballygunge, Kolkata   \n",
       "1    ₹45.0 L    ₹23.83 K  3 BHK  Independent House  Barrackpore, Kolkata   \n",
       "2   ₹1.35 Cr    ₹67.02 K  3 BHK  Independent House   Santoshpur, Kolkata   \n",
       "3    ₹60.0 L    ₹31.77 K  5 BHK  Independent House      Sarsuna, Kolkata   \n",
       "4    ₹52.0 L    ₹27.54 K  4 BHK  Independent House  Madhyamgram, Kolkata   \n",
       "\n",
       "   Total_Sqft Price_per_sq.ft  \n",
       "0  4200 sq.ft  ₹20.24 K/sq.ft  \n",
       "1  1400 sq.ft   ₹3.21 K/sq.ft  \n",
       "2  2500 sq.ft   ₹5.40 K/sq.ft  \n",
       "3  1100 sq.ft   ₹5.45 K/sq.ft  \n",
       "4   900 sq.ft   ₹5.78 K/sq.ft  "
      ]
     },
     "execution_count": 9,
     "metadata": {},
     "output_type": "execute_result"
    }
   ],
   "source": [
    "ds3.head()"
   ]
  },
  {
   "cell_type": "code",
   "execution_count": 10,
   "metadata": {
    "colab": {
     "base_uri": "https://localhost:8080/"
    },
    "id": "w686e0BvZAy0",
    "outputId": "1d87d683-47fc-42c7-e89d-46c6db502c33"
   },
   "outputs": [
    {
     "data": {
      "text/plain": [
       "array(['₹8.5 Cr', '₹45.0 L', '₹1.35 Cr', '₹60.0 L', '₹52.0 L', '₹32.0 L',\n",
       "       '₹69.3 L', '₹40.0 L', '₹95.0 L', '₹3.0 Cr', '₹80.0 L', '₹48.0 L',\n",
       "       '₹1.3 Cr', '₹45.0 Cr', '₹55.0 L', '₹1.4 Cr', '₹67.0 L', '₹99.0 L',\n",
       "       '₹31.99 L', '₹75.0 L', '₹5.25 Cr', '₹4.0 Cr', '₹1.1 Cr', '₹24.5 L',\n",
       "       '₹70.0 L', '₹50.0 L', '₹6.25 Cr', '₹57.0 L', '₹93.0 L', '₹90.0 L',\n",
       "       '₹87.0 L', '₹68.0 L', '₹1.0 Cr', '₹3.3 Cr', '₹4.7 Cr', '₹1.5 Cr',\n",
       "       '₹22.0 Cr', '₹5.9 Cr', '₹58.0 L', '₹22.5 L', '₹65.0 L', '₹1.7 Cr',\n",
       "       '₹14.0 L', '₹1.9 Cr', '₹36.0 L', '₹2.2 Cr', '₹85.0 L', '₹13.0 Cr',\n",
       "       '₹1.75 Cr', '₹1.12 Cr', '₹2.5 Cr', '₹33.0 L', '₹2.9 Cr', '₹3.5 Cr',\n",
       "       '₹2.15 Cr', '₹72.0 L', '₹46.0 L', '₹26.0 L', '₹29.0 L', '₹11.5 Cr',\n",
       "       '₹4.6 Cr', '₹1.15 Cr', '₹37.0 L', '₹34.5 L', '₹35.0 L', '₹1.05 Cr',\n",
       "       '₹14.0 Cr', '₹2.7 Cr', '₹2.3 Cr', '₹38.0 L', '₹1.2 Cr', '₹66.0 L',\n",
       "       '₹19.0 L', '₹12.5 L', '₹17.0 L', '₹1.26 Cr', '₹1.85 Cr', '₹1.8 Cr',\n",
       "       '₹37.55 L', '₹78.0 L', '₹56.0 L', '₹9.0 L', '₹3.75 Cr', '₹5.5 Cr',\n",
       "       '₹12.0 Cr', '₹6.0 Cr', '₹47.37 L', '₹4.5 Cr', '₹77.0 L', '₹8.0 Cr',\n",
       "       '₹3.6 Cr', '₹9.0 Cr', '₹6.5 Cr', '₹1.25 Cr', '₹35.2 L', '₹28.0 L',\n",
       "       '₹25.55 L', '₹50.5 L', '₹69.0 L', '₹37.5 L', '₹1.65 Cr',\n",
       "       '₹41.65 L', '₹36.5 L', '₹38.5 L', '₹38.75 L', '₹26.5 L', '₹42.0 L',\n",
       "       '₹2.0 Cr', '₹27.5 L', '₹62.55 L', '₹76.0 L', '₹22.0 L', '₹36.0 Cr',\n",
       "       '₹2.8 Cr', '₹3.2 Cr', '₹3.55 Cr', '₹82.0 L', '₹7.6 Cr', '₹92.0 L',\n",
       "       '₹3.1 Cr', '₹3.7 Cr', '₹2.1 Cr', '₹1.72 Cr', '₹1.6 Cr', '₹3.35 Cr',\n",
       "       '₹5.0 Cr', '₹45.8 L', '₹45.7 L', '₹45.75 L', '₹1.07 Cr', '₹40.1 L',\n",
       "       '₹2.6 Cr', '₹54.0 L', '₹5.99 Cr', '₹50.6 Cr', '₹5.2 Cr',\n",
       "       '₹60.0 Cr', '₹6.35 Cr', '₹38.0 Cr', '₹32.0 Cr', '₹34.0 Cr',\n",
       "       '₹10.0 Cr', '₹16.5 L', '₹34.0 L', '₹1.45 Cr', '₹43.0 L', '₹30.0 L',\n",
       "       '₹15.6 Cr', '₹7.06 L', '₹2.25 Cr', '₹1.37 Cr', '₹7.0 Cr',\n",
       "       '₹25.0 L', '₹12.5 Cr', '₹40.0 Cr', '₹98.0 L', '₹27.0 L', '₹3.4 Cr',\n",
       "       '₹7.5 Cr', '₹21.99 L', '₹4.3 Cr', '₹2.13 Cr', '₹20.18 L',\n",
       "       '₹10.51 Cr', '₹2.4 Cr', '₹2.75 Cr', '₹62.0 L', '₹29.5 L',\n",
       "       '₹13.0 L', '₹11.9 Cr', '₹3.9 Cr', '₹3.25 Cr', '₹24.0 Cr',\n",
       "       '₹9.2 Cr', '₹35.0 Cr', '₹18.0 Cr', '₹10.5 Cr', '₹31.0 Cr',\n",
       "       '₹2.85 Cr', '₹35.01 L', '₹46.8 L', '₹15.0 L', '₹35.1 L',\n",
       "       '₹24.15 L', '₹16.76 L', '₹44.0 L', '₹49.0 L', '₹88.0 L',\n",
       "       '₹98.11 L', '₹1.47 Cr', '₹96.0 L', '₹63.0 L', '₹4.8 Cr',\n",
       "       '₹1.06 Cr', '₹12.8 Cr', '₹1.58 Cr', '₹11.0 Cr', '₹4.1 L', '₹7.5 L',\n",
       "       '₹18.0 L', '₹27.7 L', '₹1.54 Cr', '₹8.7 L', '₹47.0 L', '₹23.0 L',\n",
       "       '₹51.0 L', '₹16.0 L', '₹4.1 Cr', '₹1.89 Cr', '₹2.52 Cr', '₹7.56 L',\n",
       "       '₹39.0 L', '₹4.2 Cr', '₹2.5 L', '₹83.0 L', '₹32.05 L', '₹71.0 L',\n",
       "       '₹2.45 Cr', '₹20.0 L', '₹20.0 Cr', '₹16.1 L', '₹25.5 L', '₹7.0 L',\n",
       "       '₹40.5 L', '₹13.5 L', '₹24.0 L', '₹39.5 L', '₹59.0 L', '₹16.55 L',\n",
       "       '₹3.5 L', '₹5.0 L', '₹14.5 L', '₹12.0 L', '₹25.0 Cr', '₹55.56 L',\n",
       "       '₹100.0 L', '₹1.52 Cr', '₹3.8 Cr', '₹1.62 Cr', '₹1.35 L',\n",
       "       '₹1.95 Cr', '₹2.91 Cr', '₹6.75 Cr', '₹5.1 Cr', '₹1.68 Cr',\n",
       "       '₹73.0 L', '₹5.95 Cr', '₹4.48 Cr', '₹5.24 Cr', '₹1.36 Cr',\n",
       "       '₹31.0 L', '₹53.0 L', '₹10.0 L', '₹27.65 L', '₹81.0 L', '₹9.8 Cr',\n",
       "       '₹21.0 L', '₹5.53 Cr', '₹8.5 L', '₹15.0 Cr', '₹3.85 Cr', '₹28.5 L',\n",
       "       '₹6.3 Cr', '₹32.75 L', '₹4.4 Cr', '₹8.25 Cr', '₹91.0 L', '₹79.0 L',\n",
       "       '₹2.55 Cr', '₹18.5 L', '₹1.79 Cr', '₹26.1 L', '₹15.5 L',\n",
       "       '₹2.35 Cr', '₹53.1 L', '₹38.03 L', '₹55.17 L', '₹5.55 Cr',\n",
       "       '₹3.05 Cr', '₹54.48 L', '₹62.5 L', '₹1.44 Cr'], dtype=object)"
      ]
     },
     "execution_count": 10,
     "metadata": {},
     "output_type": "execute_result"
    }
   ],
   "source": [
    "ds3.Flat_Price.unique()"
   ]
  },
  {
   "cell_type": "code",
   "execution_count": 11,
   "metadata": {
    "colab": {
     "base_uri": "https://localhost:8080/"
    },
    "id": "zapVudIoZvIH",
    "outputId": "adbed13f-0069-468b-e375-21b2be6002b7"
   },
   "outputs": [
    {
     "data": {
      "text/plain": [
       "array(['₹4.22 Lacs', '₹23.83 K', '₹67.02 K', '₹31.77 K', '₹27.54 K',\n",
       "       '₹16.95 K', '₹36.70 K', '₹21.18 K', '₹47.16 K', '₹1.49 Lacs',\n",
       "       '₹39.72 K', '₹25.42 K', '₹64.54 K', '₹22.34 Lacs', '₹29.13 K',\n",
       "       '₹69.50 K', '₹35.48 K', '₹49.15 K', '₹16.94 K', '₹2.61 Lacs',\n",
       "       '₹1.99 Lacs', '₹54.61 K', '₹12.97 K', '₹37.07 K', '₹26.48 K',\n",
       "       '₹3.10 Lacs', '₹30.18 K', '₹46.17 K', '₹44.68 K', '₹43.19 K',\n",
       "       '₹36.01 K', '₹49.65 K', '₹1.64 Lacs', '₹2.33 Lacs', '₹74.47 K',\n",
       "       '₹10.92 Lacs', '₹2.93 Lacs', '₹30.71 K', '₹11.92 K', '₹34.42 K',\n",
       "       '₹84.40 K', '₹7.41 K', '₹94.33 K', '₹19.06 K', '₹1.09 Lacs',\n",
       "       '₹42.20 K', '₹6.45 Lacs', '₹86.88 K', '₹55.60 K', '₹1.24 Lacs',\n",
       "       '₹17.48 K', '₹1.44 Lacs', '₹1.74 Lacs', '₹1.07 Lacs', '₹38.13 K',\n",
       "       '₹24.36 K', '₹13.77 K', '₹15.36 K', '₹5.71 Lacs', '₹2.28 Lacs',\n",
       "       '₹57.09 K', '₹19.59 K', '₹18.27 K', '₹18.53 K', '₹52.13 K',\n",
       "       '₹6.95 Lacs', '₹1.34 Lacs', '₹1.14 Lacs', '₹20.12 K', '₹59.58 K',\n",
       "       '₹34.95 K', '₹10.06 K', '₹6.62 K', '₹9.00 K', '₹62.55 K',\n",
       "       '₹91.85 K', '₹89.36 K', '₹19.88 K', '₹38.72 K', '₹29.66 K',\n",
       "       '₹4.77 K', '₹1.86 Lacs', '₹2.73 Lacs', '₹5.96 Lacs', '₹2.98 Lacs',\n",
       "       '₹25.09 K', '₹2.23 Lacs', '₹38.23 K', '₹3.97 Lacs', '₹1.79 Lacs',\n",
       "       '₹4.47 Lacs', '₹3.23 Lacs', '₹62.06 K', '₹18.64 K', '₹14.83 K',\n",
       "       '₹13.53 K', '₹26.74 K', '₹36.54 K', '₹19.86 K', '₹81.92 K',\n",
       "       '₹22.06 K', '₹19.33 K', '₹20.39 K', '₹20.52 K', '₹14.03 K',\n",
       "       '₹22.24 K', '₹99.29 K', '₹14.56 K', '₹33.12 K', '₹37.73 K',\n",
       "       '₹11.65 K', '₹17.87 Lacs', '₹1.39 Lacs', '₹1.59 Lacs',\n",
       "       '₹1.76 Lacs', '₹40.71 K', '₹3.77 Lacs', '₹45.67 K', '₹1.54 Lacs',\n",
       "       '₹1.84 Lacs', '₹1.04 Lacs', '₹85.39 K', '₹79.43 K', '₹1.66 Lacs',\n",
       "       '₹2.48 Lacs', '₹24.25 K', '₹24.20 K', '₹24.23 K', '₹53.12 K',\n",
       "       '₹21.24 K', '₹1.29 Lacs', '₹28.60 K', '₹2.97 Lacs', '₹25.12 Lacs',\n",
       "       '₹2.58 Lacs', '₹29.79 Lacs', '₹3.15 Lacs', '₹18.87 Lacs',\n",
       "       '₹15.89 Lacs', '₹16.88 Lacs', '₹4.96 Lacs', '₹8.74 K', '₹18.00 K',\n",
       "       '₹71.99 K', '₹22.77 K', '₹15.89 K', '₹7.74 Lacs', '₹3.74 K',\n",
       "       '₹1.12 Lacs', '₹68.02 K', '₹3.48 Lacs', '₹13.24 K', '₹6.21 Lacs',\n",
       "       '₹19.86 Lacs', '₹48.65 K', '₹14.30 K', '₹1.69 Lacs', '₹3.72 Lacs',\n",
       "       '₹11.64 K', '₹2.13 Lacs', '₹1.06 Lacs', '₹10.69 K', '₹5.22 Lacs',\n",
       "       '₹1.19 Lacs', '₹1.37 Lacs', '₹32.83 K', '₹15.62 K', '₹6.88 K',\n",
       "       '₹5.91 Lacs', '₹1.94 Lacs', '₹1.61 Lacs', '₹11.92 Lacs',\n",
       "       '₹4.57 Lacs', '₹17.38 Lacs', '₹8.94 Lacs', '₹5.21 Lacs',\n",
       "       '₹15.39 Lacs', '₹1.41 Lacs', '₹18.54 K', '₹24.78 K', '₹7.94 K',\n",
       "       '₹18.59 K', '₹12.79 K', '₹8.88 K', '₹23.30 K', '₹25.95 K',\n",
       "       '₹43.69 K', '₹48.71 K', '₹72.98 K', '₹47.66 K', '₹33.36 K',\n",
       "       '₹2.38 Lacs', '₹52.62 K', '₹6.35 Lacs', '₹78.44 K', '₹5.46 Lacs',\n",
       "       '₹2.17 K', '₹3.97 K', '₹9.53 K', '₹14.67 K', '₹76.45 K', '₹4.61 K',\n",
       "       '₹24.89 K', '₹12.18 K', '₹27.01 K', '₹8.47 K', '₹2.04 Lacs',\n",
       "       '₹93.83 K', '₹1.25 Lacs', '₹4.00 K', '₹20.65 K', '₹2.09 Lacs',\n",
       "       '₹1.32 K', '₹41.21 K', '₹16.97 K', '₹37.60 K', '₹1.22 Lacs',\n",
       "       '₹10.59 K', '₹9.93 Lacs', '₹8.53 K', '₹13.50 K', '₹3.71 K',\n",
       "       '₹21.45 K', '₹7.15 K', '₹12.71 K', '₹20.92 K', '₹31.24 K',\n",
       "       '₹8.76 K', '₹1.85 K', '₹2.65 K', '₹7.68 K', '₹6.35 K',\n",
       "       '₹12.41 Lacs', '₹29.42 K', '₹75.46 K', '₹1.89 Lacs', '₹80.43 K',\n",
       "       '₹714', '₹96.81 K', '₹3.35 Lacs', '₹2.53 Lacs', '₹83.16 K',\n",
       "       '₹38.66 K', '₹2.95 Lacs', '₹2.22 Lacs', '₹2.60 Lacs', '₹67.52 K',\n",
       "       '₹16.42 K', '₹28.07 K', '₹5.30 K', '₹14.64 K', '₹40.21 K',\n",
       "       '₹4.87 Lacs', '₹11.12 K', '₹2.75 Lacs', '₹4.50 K', '₹7.45 Lacs',\n",
       "       '₹1.91 Lacs', '₹15.09 K', '₹3.13 Lacs', '₹17.34 K', '₹2.18 Lacs',\n",
       "       '₹4.10 Lacs', '₹45.18 K', '₹39.22 K', '₹1.27 Lacs', '₹9.80 K',\n",
       "       '₹88.87 K', '₹13.82 K', '₹8.21 K', '₹1.17 Lacs', '₹28.12 K',\n",
       "       '₹20.14 K', '₹29.22 K', '₹2.76 Lacs', '₹1.51 Lacs', '₹28.85 K',\n",
       "       '₹33.10 K', '₹71.49 K'], dtype=object)"
      ]
     },
     "execution_count": 11,
     "metadata": {},
     "output_type": "execute_result"
    }
   ],
   "source": [
    "ds3.EMI_Starts.unique()"
   ]
  },
  {
   "cell_type": "code",
   "execution_count": 12,
   "metadata": {
    "colab": {
     "base_uri": "https://localhost:8080/",
     "height": 206
    },
    "id": "csLjP7a-eg-Q",
    "outputId": "f733cb78-3b32-46ba-9644-7ada0a74e362"
   },
   "outputs": [
    {
     "data": {
      "text/html": [
       "<div>\n",
       "<style scoped>\n",
       "    .dataframe tbody tr th:only-of-type {\n",
       "        vertical-align: middle;\n",
       "    }\n",
       "\n",
       "    .dataframe tbody tr th {\n",
       "        vertical-align: top;\n",
       "    }\n",
       "\n",
       "    .dataframe thead th {\n",
       "        text-align: right;\n",
       "    }\n",
       "</style>\n",
       "<table border=\"1\" class=\"dataframe\">\n",
       "  <thead>\n",
       "    <tr style=\"text-align: right;\">\n",
       "      <th></th>\n",
       "      <th>Flat_Price</th>\n",
       "      <th>EMI_Starts</th>\n",
       "      <th>BHK</th>\n",
       "      <th>HOUSE_TYPE</th>\n",
       "      <th>Location</th>\n",
       "      <th>Total_Sqft</th>\n",
       "      <th>Price_per_sqft</th>\n",
       "    </tr>\n",
       "  </thead>\n",
       "  <tbody>\n",
       "    <tr>\n",
       "      <th>0</th>\n",
       "      <td>₹8.5 Cr</td>\n",
       "      <td>₹4.22 Lacs</td>\n",
       "      <td>6 BHK</td>\n",
       "      <td>Independent House</td>\n",
       "      <td>Ballygunge, Kolkata</td>\n",
       "      <td>4200 sq.ft</td>\n",
       "      <td>₹20.24 K/sq.ft</td>\n",
       "    </tr>\n",
       "    <tr>\n",
       "      <th>1</th>\n",
       "      <td>₹45.0 L</td>\n",
       "      <td>₹23.83 K</td>\n",
       "      <td>3 BHK</td>\n",
       "      <td>Independent House</td>\n",
       "      <td>Barrackpore, Kolkata</td>\n",
       "      <td>1400 sq.ft</td>\n",
       "      <td>₹3.21 K/sq.ft</td>\n",
       "    </tr>\n",
       "    <tr>\n",
       "      <th>2</th>\n",
       "      <td>₹1.35 Cr</td>\n",
       "      <td>₹67.02 K</td>\n",
       "      <td>3 BHK</td>\n",
       "      <td>Independent House</td>\n",
       "      <td>Santoshpur, Kolkata</td>\n",
       "      <td>2500 sq.ft</td>\n",
       "      <td>₹5.40 K/sq.ft</td>\n",
       "    </tr>\n",
       "    <tr>\n",
       "      <th>3</th>\n",
       "      <td>₹60.0 L</td>\n",
       "      <td>₹31.77 K</td>\n",
       "      <td>5 BHK</td>\n",
       "      <td>Independent House</td>\n",
       "      <td>Sarsuna, Kolkata</td>\n",
       "      <td>1100 sq.ft</td>\n",
       "      <td>₹5.45 K/sq.ft</td>\n",
       "    </tr>\n",
       "    <tr>\n",
       "      <th>4</th>\n",
       "      <td>₹52.0 L</td>\n",
       "      <td>₹27.54 K</td>\n",
       "      <td>4 BHK</td>\n",
       "      <td>Independent House</td>\n",
       "      <td>Madhyamgram, Kolkata</td>\n",
       "      <td>900 sq.ft</td>\n",
       "      <td>₹5.78 K/sq.ft</td>\n",
       "    </tr>\n",
       "  </tbody>\n",
       "</table>\n",
       "</div>"
      ],
      "text/plain": [
       "  Flat_Price  EMI_Starts    BHK         HOUSE_TYPE              Location  \\\n",
       "0    ₹8.5 Cr  ₹4.22 Lacs  6 BHK  Independent House   Ballygunge, Kolkata   \n",
       "1    ₹45.0 L    ₹23.83 K  3 BHK  Independent House  Barrackpore, Kolkata   \n",
       "2   ₹1.35 Cr    ₹67.02 K  3 BHK  Independent House   Santoshpur, Kolkata   \n",
       "3    ₹60.0 L    ₹31.77 K  5 BHK  Independent House      Sarsuna, Kolkata   \n",
       "4    ₹52.0 L    ₹27.54 K  4 BHK  Independent House  Madhyamgram, Kolkata   \n",
       "\n",
       "   Total_Sqft  Price_per_sqft  \n",
       "0  4200 sq.ft  ₹20.24 K/sq.ft  \n",
       "1  1400 sq.ft   ₹3.21 K/sq.ft  \n",
       "2  2500 sq.ft   ₹5.40 K/sq.ft  \n",
       "3  1100 sq.ft   ₹5.45 K/sq.ft  \n",
       "4   900 sq.ft   ₹5.78 K/sq.ft  "
      ]
     },
     "execution_count": 12,
     "metadata": {},
     "output_type": "execute_result"
    }
   ],
   "source": [
    "ds4=ds3.copy()\n",
    "ds4=ds4.rename(columns={ds4.columns[6]: 'Price_per_sqft'})\n",
    "ds4.head()"
   ]
  },
  {
   "cell_type": "code",
   "execution_count": 13,
   "metadata": {
    "colab": {
     "base_uri": "https://localhost:8080/",
     "height": 206
    },
    "id": "I1r2gTPvjJ-q",
    "outputId": "3c873932-72aa-4c6a-df50-30d9ea3ee3f7"
   },
   "outputs": [
    {
     "data": {
      "text/html": [
       "<div>\n",
       "<style scoped>\n",
       "    .dataframe tbody tr th:only-of-type {\n",
       "        vertical-align: middle;\n",
       "    }\n",
       "\n",
       "    .dataframe tbody tr th {\n",
       "        vertical-align: top;\n",
       "    }\n",
       "\n",
       "    .dataframe thead th {\n",
       "        text-align: right;\n",
       "    }\n",
       "</style>\n",
       "<table border=\"1\" class=\"dataframe\">\n",
       "  <thead>\n",
       "    <tr style=\"text-align: right;\">\n",
       "      <th></th>\n",
       "      <th>Flat_Price</th>\n",
       "      <th>EMI_Starts</th>\n",
       "      <th>BHK</th>\n",
       "      <th>HOUSE_TYPE</th>\n",
       "      <th>Location</th>\n",
       "      <th>Total_Sqft</th>\n",
       "      <th>Price_per_sqft</th>\n",
       "    </tr>\n",
       "  </thead>\n",
       "  <tbody>\n",
       "    <tr>\n",
       "      <th>0</th>\n",
       "      <td>8.5 Cr</td>\n",
       "      <td>4.22 Lacs</td>\n",
       "      <td>6 BHK</td>\n",
       "      <td>Independent House</td>\n",
       "      <td>Ballygunge, Kolkata</td>\n",
       "      <td>4200 sq.ft</td>\n",
       "      <td>20.24 K</td>\n",
       "    </tr>\n",
       "    <tr>\n",
       "      <th>1</th>\n",
       "      <td>45.0 L</td>\n",
       "      <td>23.83 K</td>\n",
       "      <td>3 BHK</td>\n",
       "      <td>Independent House</td>\n",
       "      <td>Barrackpore, Kolkata</td>\n",
       "      <td>1400 sq.ft</td>\n",
       "      <td>3.21 K</td>\n",
       "    </tr>\n",
       "    <tr>\n",
       "      <th>2</th>\n",
       "      <td>1.35 Cr</td>\n",
       "      <td>67.02 K</td>\n",
       "      <td>3 BHK</td>\n",
       "      <td>Independent House</td>\n",
       "      <td>Santoshpur, Kolkata</td>\n",
       "      <td>2500 sq.ft</td>\n",
       "      <td>5.40 K</td>\n",
       "    </tr>\n",
       "    <tr>\n",
       "      <th>3</th>\n",
       "      <td>60.0 L</td>\n",
       "      <td>31.77 K</td>\n",
       "      <td>5 BHK</td>\n",
       "      <td>Independent House</td>\n",
       "      <td>Sarsuna, Kolkata</td>\n",
       "      <td>1100 sq.ft</td>\n",
       "      <td>5.45 K</td>\n",
       "    </tr>\n",
       "    <tr>\n",
       "      <th>4</th>\n",
       "      <td>52.0 L</td>\n",
       "      <td>27.54 K</td>\n",
       "      <td>4 BHK</td>\n",
       "      <td>Independent House</td>\n",
       "      <td>Madhyamgram, Kolkata</td>\n",
       "      <td>900 sq.ft</td>\n",
       "      <td>5.78 K</td>\n",
       "    </tr>\n",
       "  </tbody>\n",
       "</table>\n",
       "</div>"
      ],
      "text/plain": [
       "  Flat_Price EMI_Starts    BHK         HOUSE_TYPE              Location  \\\n",
       "0     8.5 Cr  4.22 Lacs  6 BHK  Independent House   Ballygunge, Kolkata   \n",
       "1     45.0 L    23.83 K  3 BHK  Independent House  Barrackpore, Kolkata   \n",
       "2    1.35 Cr    67.02 K  3 BHK  Independent House   Santoshpur, Kolkata   \n",
       "3     60.0 L    31.77 K  5 BHK  Independent House      Sarsuna, Kolkata   \n",
       "4     52.0 L    27.54 K  4 BHK  Independent House  Madhyamgram, Kolkata   \n",
       "\n",
       "   Total_Sqft Price_per_sqft  \n",
       "0  4200 sq.ft        20.24 K  \n",
       "1  1400 sq.ft         3.21 K  \n",
       "2  2500 sq.ft         5.40 K  \n",
       "3  1100 sq.ft         5.45 K  \n",
       "4   900 sq.ft         5.78 K  "
      ]
     },
     "execution_count": 13,
     "metadata": {},
     "output_type": "execute_result"
    }
   ],
   "source": [
    "#Trimming entries\n",
    "ds5=ds4.copy()\n",
    "ds5['Price_per_sqft'] = ds5['Price_per_sqft'].apply(lambda x: x.rstrip(\"/sq.ft\"))\n",
    "ds5['Price_per_sqft'] = ds5['Price_per_sqft'].apply(lambda x: x.lstrip('₹'))\n",
    "ds5['Flat_Price']= ds5['Flat_Price'].apply(lambda x: x.lstrip('₹'))\n",
    "ds5['EMI_Starts'] = ds5['EMI_Starts'].apply(lambda x: x.lstrip('₹'))\n",
    "ds5.head()\n",
    "\n"
   ]
  },
  {
   "cell_type": "code",
   "execution_count": 14,
   "metadata": {
    "colab": {
     "base_uri": "https://localhost:8080/",
     "height": 206
    },
    "id": "DX-cdWG4txT7",
    "outputId": "43ab701d-028a-425c-c37f-38cb355b31f0"
   },
   "outputs": [
    {
     "data": {
      "text/html": [
       "<div>\n",
       "<style scoped>\n",
       "    .dataframe tbody tr th:only-of-type {\n",
       "        vertical-align: middle;\n",
       "    }\n",
       "\n",
       "    .dataframe tbody tr th {\n",
       "        vertical-align: top;\n",
       "    }\n",
       "\n",
       "    .dataframe thead th {\n",
       "        text-align: right;\n",
       "    }\n",
       "</style>\n",
       "<table border=\"1\" class=\"dataframe\">\n",
       "  <thead>\n",
       "    <tr style=\"text-align: right;\">\n",
       "      <th></th>\n",
       "      <th>Flat_Price</th>\n",
       "      <th>EMI_Starts</th>\n",
       "      <th>BHK</th>\n",
       "      <th>HOUSE_TYPE</th>\n",
       "      <th>Location</th>\n",
       "      <th>Total_Sqft</th>\n",
       "      <th>Price_per_sqft</th>\n",
       "      <th>Region</th>\n",
       "    </tr>\n",
       "  </thead>\n",
       "  <tbody>\n",
       "    <tr>\n",
       "      <th>0</th>\n",
       "      <td>8.5 Cr</td>\n",
       "      <td>4.22 Lacs</td>\n",
       "      <td>6 BHK</td>\n",
       "      <td>Independent House</td>\n",
       "      <td>Ballygunge, Kolkata</td>\n",
       "      <td>4200 sq.ft</td>\n",
       "      <td>20.24 K</td>\n",
       "      <td>Ballygunge</td>\n",
       "    </tr>\n",
       "    <tr>\n",
       "      <th>1</th>\n",
       "      <td>45.0 L</td>\n",
       "      <td>23.83 K</td>\n",
       "      <td>3 BHK</td>\n",
       "      <td>Independent House</td>\n",
       "      <td>Barrackpore, Kolkata</td>\n",
       "      <td>1400 sq.ft</td>\n",
       "      <td>3.21 K</td>\n",
       "      <td>Barrackpore</td>\n",
       "    </tr>\n",
       "    <tr>\n",
       "      <th>2</th>\n",
       "      <td>1.35 Cr</td>\n",
       "      <td>67.02 K</td>\n",
       "      <td>3 BHK</td>\n",
       "      <td>Independent House</td>\n",
       "      <td>Santoshpur, Kolkata</td>\n",
       "      <td>2500 sq.ft</td>\n",
       "      <td>5.40 K</td>\n",
       "      <td>Santoshpur</td>\n",
       "    </tr>\n",
       "    <tr>\n",
       "      <th>3</th>\n",
       "      <td>60.0 L</td>\n",
       "      <td>31.77 K</td>\n",
       "      <td>5 BHK</td>\n",
       "      <td>Independent House</td>\n",
       "      <td>Sarsuna, Kolkata</td>\n",
       "      <td>1100 sq.ft</td>\n",
       "      <td>5.45 K</td>\n",
       "      <td>Sarsuna</td>\n",
       "    </tr>\n",
       "    <tr>\n",
       "      <th>4</th>\n",
       "      <td>52.0 L</td>\n",
       "      <td>27.54 K</td>\n",
       "      <td>4 BHK</td>\n",
       "      <td>Independent House</td>\n",
       "      <td>Madhyamgram, Kolkata</td>\n",
       "      <td>900 sq.ft</td>\n",
       "      <td>5.78 K</td>\n",
       "      <td>Madhyamgram</td>\n",
       "    </tr>\n",
       "  </tbody>\n",
       "</table>\n",
       "</div>"
      ],
      "text/plain": [
       "  Flat_Price EMI_Starts    BHK         HOUSE_TYPE              Location  \\\n",
       "0     8.5 Cr  4.22 Lacs  6 BHK  Independent House   Ballygunge, Kolkata   \n",
       "1     45.0 L    23.83 K  3 BHK  Independent House  Barrackpore, Kolkata   \n",
       "2    1.35 Cr    67.02 K  3 BHK  Independent House   Santoshpur, Kolkata   \n",
       "3     60.0 L    31.77 K  5 BHK  Independent House      Sarsuna, Kolkata   \n",
       "4     52.0 L    27.54 K  4 BHK  Independent House  Madhyamgram, Kolkata   \n",
       "\n",
       "   Total_Sqft Price_per_sqft       Region  \n",
       "0  4200 sq.ft        20.24 K   Ballygunge  \n",
       "1  1400 sq.ft         3.21 K  Barrackpore  \n",
       "2  2500 sq.ft         5.40 K   Santoshpur  \n",
       "3  1100 sq.ft         5.45 K      Sarsuna  \n",
       "4   900 sq.ft         5.78 K  Madhyamgram  "
      ]
     },
     "execution_count": 14,
     "metadata": {},
     "output_type": "execute_result"
    }
   ],
   "source": [
    "ds5['Region'] = ds5['Location'].apply(lambda x: x.split(', ')[0])\n",
    "ds5.head()"
   ]
  },
  {
   "cell_type": "code",
   "execution_count": 15,
   "metadata": {
    "id": "BjZbOL0avQcc"
   },
   "outputs": [],
   "source": [
    "def expand_into_int(row_val):\n",
    "  splitted_val = row_val.split(\" \")\n",
    "  amount = float(splitted_val[0])\n",
    "  if len(splitted_val) == 2:\n",
    "    unit = splitted_val[1]\n",
    "    if unit == 'K':\n",
    "      return 1000 * float(amount)\n",
    "    elif unit == 'L' or unit == 'Lacs':\n",
    "      return 100000 * float(amount)\n",
    "    elif unit == 'Cr':\n",
    "      return 10000000 * float(amount)\n",
    "  else:\n",
    "    return amount"
   ]
  },
  {
   "cell_type": "code",
   "execution_count": 16,
   "metadata": {
    "colab": {
     "base_uri": "https://localhost:8080/",
     "height": 423
    },
    "id": "HfgvyJTOwCx8",
    "outputId": "7119e177-5601-404d-e9b9-e83001cfb68f"
   },
   "outputs": [
    {
     "data": {
      "text/html": [
       "<div>\n",
       "<style scoped>\n",
       "    .dataframe tbody tr th:only-of-type {\n",
       "        vertical-align: middle;\n",
       "    }\n",
       "\n",
       "    .dataframe tbody tr th {\n",
       "        vertical-align: top;\n",
       "    }\n",
       "\n",
       "    .dataframe thead th {\n",
       "        text-align: right;\n",
       "    }\n",
       "</style>\n",
       "<table border=\"1\" class=\"dataframe\">\n",
       "  <thead>\n",
       "    <tr style=\"text-align: right;\">\n",
       "      <th></th>\n",
       "      <th>Flat_Price</th>\n",
       "      <th>EMI_Starts</th>\n",
       "      <th>BHK</th>\n",
       "      <th>HOUSE_TYPE</th>\n",
       "      <th>Location</th>\n",
       "      <th>Total_Sqft</th>\n",
       "      <th>Price_per_sqft</th>\n",
       "      <th>Region</th>\n",
       "    </tr>\n",
       "  </thead>\n",
       "  <tbody>\n",
       "    <tr>\n",
       "      <th>0</th>\n",
       "      <td>85000000.0</td>\n",
       "      <td>422000.0</td>\n",
       "      <td>6 BHK</td>\n",
       "      <td>Independent House</td>\n",
       "      <td>Ballygunge, Kolkata</td>\n",
       "      <td>4200.0</td>\n",
       "      <td>20240.0</td>\n",
       "      <td>Ballygunge</td>\n",
       "    </tr>\n",
       "    <tr>\n",
       "      <th>1</th>\n",
       "      <td>4500000.0</td>\n",
       "      <td>23830.0</td>\n",
       "      <td>3 BHK</td>\n",
       "      <td>Independent House</td>\n",
       "      <td>Barrackpore, Kolkata</td>\n",
       "      <td>1400.0</td>\n",
       "      <td>3210.0</td>\n",
       "      <td>Barrackpore</td>\n",
       "    </tr>\n",
       "    <tr>\n",
       "      <th>2</th>\n",
       "      <td>13500000.0</td>\n",
       "      <td>67020.0</td>\n",
       "      <td>3 BHK</td>\n",
       "      <td>Independent House</td>\n",
       "      <td>Santoshpur, Kolkata</td>\n",
       "      <td>2500.0</td>\n",
       "      <td>5400.0</td>\n",
       "      <td>Santoshpur</td>\n",
       "    </tr>\n",
       "    <tr>\n",
       "      <th>3</th>\n",
       "      <td>6000000.0</td>\n",
       "      <td>31770.0</td>\n",
       "      <td>5 BHK</td>\n",
       "      <td>Independent House</td>\n",
       "      <td>Sarsuna, Kolkata</td>\n",
       "      <td>1100.0</td>\n",
       "      <td>5450.0</td>\n",
       "      <td>Sarsuna</td>\n",
       "    </tr>\n",
       "    <tr>\n",
       "      <th>4</th>\n",
       "      <td>5200000.0</td>\n",
       "      <td>27540.0</td>\n",
       "      <td>4 BHK</td>\n",
       "      <td>Independent House</td>\n",
       "      <td>Madhyamgram, Kolkata</td>\n",
       "      <td>900.0</td>\n",
       "      <td>5780.0</td>\n",
       "      <td>Madhyamgram</td>\n",
       "    </tr>\n",
       "    <tr>\n",
       "      <th>...</th>\n",
       "      <td>...</td>\n",
       "      <td>...</td>\n",
       "      <td>...</td>\n",
       "      <td>...</td>\n",
       "      <td>...</td>\n",
       "      <td>...</td>\n",
       "      <td>...</td>\n",
       "      <td>...</td>\n",
       "    </tr>\n",
       "    <tr>\n",
       "      <th>3963</th>\n",
       "      <td>1300000.0</td>\n",
       "      <td>6880.0</td>\n",
       "      <td>2 BHK</td>\n",
       "      <td>Independent House</td>\n",
       "      <td>Picnic Garden, Kolkata</td>\n",
       "      <td>1500.0</td>\n",
       "      <td>866.0</td>\n",
       "      <td>Picnic Garden</td>\n",
       "    </tr>\n",
       "    <tr>\n",
       "      <th>3964</th>\n",
       "      <td>15000000.0</td>\n",
       "      <td>74470.0</td>\n",
       "      <td>8 BHK</td>\n",
       "      <td>Independent House</td>\n",
       "      <td>Rajpur Sonarpur, Kolkata</td>\n",
       "      <td>2560.0</td>\n",
       "      <td>5860.0</td>\n",
       "      <td>Rajpur Sonarpur</td>\n",
       "    </tr>\n",
       "    <tr>\n",
       "      <th>3965</th>\n",
       "      <td>5000000.0</td>\n",
       "      <td>26480.0</td>\n",
       "      <td>5 BHK</td>\n",
       "      <td>Independent House</td>\n",
       "      <td>Amtala, Kolkata</td>\n",
       "      <td>1900.0</td>\n",
       "      <td>2630.0</td>\n",
       "      <td>Amtala</td>\n",
       "    </tr>\n",
       "    <tr>\n",
       "      <th>3966</th>\n",
       "      <td>11000000.0</td>\n",
       "      <td>54610.0</td>\n",
       "      <td>5 BHK</td>\n",
       "      <td>Independent House</td>\n",
       "      <td>Tollygunge, Kolkata</td>\n",
       "      <td>2600.0</td>\n",
       "      <td>4230.0</td>\n",
       "      <td>Tollygunge</td>\n",
       "    </tr>\n",
       "    <tr>\n",
       "      <th>3967</th>\n",
       "      <td>3000000.0</td>\n",
       "      <td>15890.0</td>\n",
       "      <td>2 BHK</td>\n",
       "      <td>Independent House</td>\n",
       "      <td>Naihati, Kolkata</td>\n",
       "      <td>950.0</td>\n",
       "      <td>3160.0</td>\n",
       "      <td>Naihati</td>\n",
       "    </tr>\n",
       "  </tbody>\n",
       "</table>\n",
       "<p>3966 rows × 8 columns</p>\n",
       "</div>"
      ],
      "text/plain": [
       "      Flat_Price  EMI_Starts    BHK         HOUSE_TYPE  \\\n",
       "0     85000000.0    422000.0  6 BHK  Independent House   \n",
       "1      4500000.0     23830.0  3 BHK  Independent House   \n",
       "2     13500000.0     67020.0  3 BHK  Independent House   \n",
       "3      6000000.0     31770.0  5 BHK  Independent House   \n",
       "4      5200000.0     27540.0  4 BHK  Independent House   \n",
       "...          ...         ...    ...                ...   \n",
       "3963   1300000.0      6880.0  2 BHK  Independent House   \n",
       "3964  15000000.0     74470.0  8 BHK  Independent House   \n",
       "3965   5000000.0     26480.0  5 BHK  Independent House   \n",
       "3966  11000000.0     54610.0  5 BHK  Independent House   \n",
       "3967   3000000.0     15890.0  2 BHK  Independent House   \n",
       "\n",
       "                      Location  Total_Sqft  Price_per_sqft           Region  \n",
       "0          Ballygunge, Kolkata      4200.0         20240.0       Ballygunge  \n",
       "1         Barrackpore, Kolkata      1400.0          3210.0      Barrackpore  \n",
       "2          Santoshpur, Kolkata      2500.0          5400.0       Santoshpur  \n",
       "3             Sarsuna, Kolkata      1100.0          5450.0          Sarsuna  \n",
       "4         Madhyamgram, Kolkata       900.0          5780.0      Madhyamgram  \n",
       "...                        ...         ...             ...              ...  \n",
       "3963    Picnic Garden, Kolkata      1500.0           866.0    Picnic Garden  \n",
       "3964  Rajpur Sonarpur, Kolkata      2560.0          5860.0  Rajpur Sonarpur  \n",
       "3965           Amtala, Kolkata      1900.0          2630.0           Amtala  \n",
       "3966       Tollygunge, Kolkata      2600.0          4230.0       Tollygunge  \n",
       "3967          Naihati, Kolkata       950.0          3160.0          Naihati  \n",
       "\n",
       "[3966 rows x 8 columns]"
      ]
     },
     "execution_count": 16,
     "metadata": {},
     "output_type": "execute_result"
    }
   ],
   "source": [
    "ds5['EMI_Starts'] = ds5.apply(lambda x: expand_into_int(x['EMI_Starts']), axis=1)\n",
    "ds5['Flat_Price'] = ds5['Flat_Price'].apply(expand_into_int)\n",
    "ds5['Price_per_sqft'] = ds5['Price_per_sqft'].apply(expand_into_int)\n",
    "ds5['Total_Sqft'] = ds5['Total_Sqft'].apply(lambda x: float(x.split(' ')[0]))\n",
    "ds5"
   ]
  },
  {
   "cell_type": "code",
   "execution_count": 17,
   "metadata": {
    "colab": {
     "base_uri": "https://localhost:8080/",
     "height": 206
    },
    "id": "wJZDGszwwt1C",
    "outputId": "15d7dc1b-5fe7-44f0-d733-8e66ee293e98"
   },
   "outputs": [
    {
     "data": {
      "text/html": [
       "<div>\n",
       "<style scoped>\n",
       "    .dataframe tbody tr th:only-of-type {\n",
       "        vertical-align: middle;\n",
       "    }\n",
       "\n",
       "    .dataframe tbody tr th {\n",
       "        vertical-align: top;\n",
       "    }\n",
       "\n",
       "    .dataframe thead th {\n",
       "        text-align: right;\n",
       "    }\n",
       "</style>\n",
       "<table border=\"1\" class=\"dataframe\">\n",
       "  <thead>\n",
       "    <tr style=\"text-align: right;\">\n",
       "      <th></th>\n",
       "      <th>Flat_Price</th>\n",
       "      <th>EMI_Starts</th>\n",
       "      <th>BHK</th>\n",
       "      <th>HOUSE_TYPE</th>\n",
       "      <th>Location</th>\n",
       "      <th>Total_Sqft</th>\n",
       "      <th>Price_per_sqft</th>\n",
       "      <th>Region</th>\n",
       "    </tr>\n",
       "  </thead>\n",
       "  <tbody>\n",
       "    <tr>\n",
       "      <th>0</th>\n",
       "      <td>85000000.0</td>\n",
       "      <td>422000.0</td>\n",
       "      <td>6.0</td>\n",
       "      <td>Independent House</td>\n",
       "      <td>Ballygunge, Kolkata</td>\n",
       "      <td>4200.0</td>\n",
       "      <td>20240.0</td>\n",
       "      <td>Ballygunge</td>\n",
       "    </tr>\n",
       "    <tr>\n",
       "      <th>1</th>\n",
       "      <td>4500000.0</td>\n",
       "      <td>23830.0</td>\n",
       "      <td>3.0</td>\n",
       "      <td>Independent House</td>\n",
       "      <td>Barrackpore, Kolkata</td>\n",
       "      <td>1400.0</td>\n",
       "      <td>3210.0</td>\n",
       "      <td>Barrackpore</td>\n",
       "    </tr>\n",
       "    <tr>\n",
       "      <th>2</th>\n",
       "      <td>13500000.0</td>\n",
       "      <td>67020.0</td>\n",
       "      <td>3.0</td>\n",
       "      <td>Independent House</td>\n",
       "      <td>Santoshpur, Kolkata</td>\n",
       "      <td>2500.0</td>\n",
       "      <td>5400.0</td>\n",
       "      <td>Santoshpur</td>\n",
       "    </tr>\n",
       "    <tr>\n",
       "      <th>3</th>\n",
       "      <td>6000000.0</td>\n",
       "      <td>31770.0</td>\n",
       "      <td>5.0</td>\n",
       "      <td>Independent House</td>\n",
       "      <td>Sarsuna, Kolkata</td>\n",
       "      <td>1100.0</td>\n",
       "      <td>5450.0</td>\n",
       "      <td>Sarsuna</td>\n",
       "    </tr>\n",
       "    <tr>\n",
       "      <th>4</th>\n",
       "      <td>5200000.0</td>\n",
       "      <td>27540.0</td>\n",
       "      <td>4.0</td>\n",
       "      <td>Independent House</td>\n",
       "      <td>Madhyamgram, Kolkata</td>\n",
       "      <td>900.0</td>\n",
       "      <td>5780.0</td>\n",
       "      <td>Madhyamgram</td>\n",
       "    </tr>\n",
       "  </tbody>\n",
       "</table>\n",
       "</div>"
      ],
      "text/plain": [
       "   Flat_Price  EMI_Starts  BHK         HOUSE_TYPE              Location  \\\n",
       "0  85000000.0    422000.0  6.0  Independent House   Ballygunge, Kolkata   \n",
       "1   4500000.0     23830.0  3.0  Independent House  Barrackpore, Kolkata   \n",
       "2  13500000.0     67020.0  3.0  Independent House   Santoshpur, Kolkata   \n",
       "3   6000000.0     31770.0  5.0  Independent House      Sarsuna, Kolkata   \n",
       "4   5200000.0     27540.0  4.0  Independent House  Madhyamgram, Kolkata   \n",
       "\n",
       "   Total_Sqft  Price_per_sqft       Region  \n",
       "0      4200.0         20240.0   Ballygunge  \n",
       "1      1400.0          3210.0  Barrackpore  \n",
       "2      2500.0          5400.0   Santoshpur  \n",
       "3      1100.0          5450.0      Sarsuna  \n",
       "4       900.0          5780.0  Madhyamgram  "
      ]
     },
     "execution_count": 17,
     "metadata": {},
     "output_type": "execute_result"
    }
   ],
   "source": [
    "ds5['BHK'] = ds5['BHK'].apply(lambda x: float(x.split(' ')[0]))\n",
    "ds5.head()"
   ]
  },
  {
   "cell_type": "code",
   "execution_count": 18,
   "metadata": {
    "colab": {
     "base_uri": "https://localhost:8080/"
    },
    "id": "8RR1mR0MXJrK",
    "outputId": "754ce20b-0bfa-4126-bd8a-96149683291a"
   },
   "outputs": [
    {
     "data": {
      "text/plain": [
       "201"
      ]
     },
     "execution_count": 18,
     "metadata": {},
     "output_type": "execute_result"
    }
   ],
   "source": [
    "len(ds5.Region.unique())"
   ]
  },
  {
   "cell_type": "code",
   "execution_count": 19,
   "metadata": {
    "colab": {
     "base_uri": "https://localhost:8080/"
    },
    "id": "amDL3PY8Xxjp",
    "outputId": "0a73c621-a876-477c-f0fb-53678124071e"
   },
   "outputs": [
    {
     "data": {
      "text/plain": [
       "Region\n",
       "Salt Lake City     194\n",
       "Rajpur Sonarpur    145\n",
       "Garia              138\n",
       "Maheshtala         113\n",
       "Behala             103\n",
       "                  ... \n",
       "Chitpur              2\n",
       "Mohispota            2\n",
       "Bow Barracks         1\n",
       "Kolutolla            1\n",
       "Raja Bazar           1\n",
       "Name: Region, Length: 201, dtype: int64"
      ]
     },
     "execution_count": 19,
     "metadata": {},
     "output_type": "execute_result"
    }
   ],
   "source": [
    "ds5.Region=ds5.Region.apply(lambda x: x.strip())\n",
    "\n",
    "location_stats=ds5.groupby('Region')['Region'].agg('count').sort_values(ascending=False)\n",
    "location_stats"
   ]
  },
  {
   "cell_type": "code",
   "execution_count": 20,
   "metadata": {
    "colab": {
     "base_uri": "https://localhost:8080/"
    },
    "id": "oKIGnOyvZBZ_",
    "outputId": "2c2f886f-213d-4a7f-9322-19c61804ddce"
   },
   "outputs": [
    {
     "data": {
      "text/plain": [
       "Region\n",
       "Bantala         5\n",
       "Garulia         5\n",
       "Belgachia       4\n",
       "Rania           4\n",
       "Jagatipota      4\n",
       "               ..\n",
       "Chitpur         2\n",
       "Mohispota       2\n",
       "Bow Barracks    1\n",
       "Kolutolla       1\n",
       "Raja Bazar      1\n",
       "Name: Region, Length: 62, dtype: int64"
      ]
     },
     "execution_count": 20,
     "metadata": {},
     "output_type": "execute_result"
    }
   ],
   "source": [
    "len(location_stats[location_stats<=5])\n",
    "lstats_less_than_5=location_stats[location_stats<=5]\n",
    "lstats_less_than_5"
   ]
  },
  {
   "cell_type": "code",
   "execution_count": 21,
   "metadata": {
    "colab": {
     "base_uri": "https://localhost:8080/"
    },
    "id": "7F8sKP_iZoh7",
    "outputId": "9bf74a9e-28e0-4ebd-b70e-80f428c43800"
   },
   "outputs": [
    {
     "data": {
      "text/plain": [
       "140"
      ]
     },
     "execution_count": 21,
     "metadata": {},
     "output_type": "execute_result"
    }
   ],
   "source": [
    "ds5.Region=ds5.Region.apply(lambda x: 'other' if x in lstats_less_than_5 else x)\n",
    "len(ds5.Region.unique())"
   ]
  },
  {
   "cell_type": "code",
   "execution_count": 22,
   "metadata": {
    "colab": {
     "base_uri": "https://localhost:8080/",
     "height": 206
    },
    "id": "OUPcphXSatcJ",
    "outputId": "cf069cc9-b292-42c1-823d-e516b64c10ca"
   },
   "outputs": [
    {
     "data": {
      "text/html": [
       "<div>\n",
       "<style scoped>\n",
       "    .dataframe tbody tr th:only-of-type {\n",
       "        vertical-align: middle;\n",
       "    }\n",
       "\n",
       "    .dataframe tbody tr th {\n",
       "        vertical-align: top;\n",
       "    }\n",
       "\n",
       "    .dataframe thead th {\n",
       "        text-align: right;\n",
       "    }\n",
       "</style>\n",
       "<table border=\"1\" class=\"dataframe\">\n",
       "  <thead>\n",
       "    <tr style=\"text-align: right;\">\n",
       "      <th></th>\n",
       "      <th>Flat_Price</th>\n",
       "      <th>EMI_Starts</th>\n",
       "      <th>BHK</th>\n",
       "      <th>HOUSE_TYPE</th>\n",
       "      <th>Location</th>\n",
       "      <th>Total_Sqft</th>\n",
       "      <th>Price_per_sqft</th>\n",
       "      <th>Region</th>\n",
       "    </tr>\n",
       "  </thead>\n",
       "  <tbody>\n",
       "    <tr>\n",
       "      <th>3</th>\n",
       "      <td>6000000.0</td>\n",
       "      <td>31770.0</td>\n",
       "      <td>5.0</td>\n",
       "      <td>Independent House</td>\n",
       "      <td>Sarsuna, Kolkata</td>\n",
       "      <td>1100.0</td>\n",
       "      <td>5450.0</td>\n",
       "      <td>Sarsuna</td>\n",
       "    </tr>\n",
       "    <tr>\n",
       "      <th>4</th>\n",
       "      <td>5200000.0</td>\n",
       "      <td>27540.0</td>\n",
       "      <td>4.0</td>\n",
       "      <td>Independent House</td>\n",
       "      <td>Madhyamgram, Kolkata</td>\n",
       "      <td>900.0</td>\n",
       "      <td>5780.0</td>\n",
       "      <td>Madhyamgram</td>\n",
       "    </tr>\n",
       "    <tr>\n",
       "      <th>19</th>\n",
       "      <td>7500000.0</td>\n",
       "      <td>39720.0</td>\n",
       "      <td>9.0</td>\n",
       "      <td>Independent House</td>\n",
       "      <td>Taratala, Kolkata</td>\n",
       "      <td>1450.0</td>\n",
       "      <td>5170.0</td>\n",
       "      <td>other</td>\n",
       "    </tr>\n",
       "    <tr>\n",
       "      <th>20</th>\n",
       "      <td>6000000.0</td>\n",
       "      <td>31770.0</td>\n",
       "      <td>5.0</td>\n",
       "      <td>Independent House</td>\n",
       "      <td>Sarsuna, Kolkata</td>\n",
       "      <td>1100.0</td>\n",
       "      <td>5450.0</td>\n",
       "      <td>Sarsuna</td>\n",
       "    </tr>\n",
       "    <tr>\n",
       "      <th>21</th>\n",
       "      <td>5200000.0</td>\n",
       "      <td>27540.0</td>\n",
       "      <td>4.0</td>\n",
       "      <td>Independent House</td>\n",
       "      <td>Madhyamgram, Kolkata</td>\n",
       "      <td>900.0</td>\n",
       "      <td>5780.0</td>\n",
       "      <td>Madhyamgram</td>\n",
       "    </tr>\n",
       "  </tbody>\n",
       "</table>\n",
       "</div>"
      ],
      "text/plain": [
       "    Flat_Price  EMI_Starts  BHK         HOUSE_TYPE              Location  \\\n",
       "3    6000000.0     31770.0  5.0  Independent House      Sarsuna, Kolkata   \n",
       "4    5200000.0     27540.0  4.0  Independent House  Madhyamgram, Kolkata   \n",
       "19   7500000.0     39720.0  9.0  Independent House     Taratala, Kolkata   \n",
       "20   6000000.0     31770.0  5.0  Independent House      Sarsuna, Kolkata   \n",
       "21   5200000.0     27540.0  4.0  Independent House  Madhyamgram, Kolkata   \n",
       "\n",
       "    Total_Sqft  Price_per_sqft       Region  \n",
       "3       1100.0          5450.0      Sarsuna  \n",
       "4        900.0          5780.0  Madhyamgram  \n",
       "19      1450.0          5170.0        other  \n",
       "20      1100.0          5450.0      Sarsuna  \n",
       "21       900.0          5780.0  Madhyamgram  "
      ]
     },
     "execution_count": 22,
     "metadata": {},
     "output_type": "execute_result"
    }
   ],
   "source": [
    "#outliers_removal\n",
    "ds5[ds5.Total_Sqft/ds5.BHK<300].head()"
   ]
  },
  {
   "cell_type": "code",
   "execution_count": 23,
   "metadata": {
    "colab": {
     "base_uri": "https://localhost:8080/"
    },
    "id": "SCbfxkKycxMN",
    "outputId": "706c5792-de11-468a-d167-25b6a26ab306"
   },
   "outputs": [
    {
     "data": {
      "text/plain": [
       "(3966, 8)"
      ]
     },
     "execution_count": 23,
     "metadata": {},
     "output_type": "execute_result"
    }
   ],
   "source": [
    "ds5.shape"
   ]
  },
  {
   "cell_type": "code",
   "execution_count": 24,
   "metadata": {
    "colab": {
     "base_uri": "https://localhost:8080/"
    },
    "id": "EKJ3A44Qc6T3",
    "outputId": "40098b7b-7785-40dc-801e-fd27b830f404"
   },
   "outputs": [
    {
     "data": {
      "text/plain": [
       "(3469, 8)"
      ]
     },
     "execution_count": 24,
     "metadata": {},
     "output_type": "execute_result"
    }
   ],
   "source": [
    "#sqft per room abnormal\n",
    "ds6=ds5[~(ds5.Total_Sqft/ds5.BHK<300)]\n",
    "ds6.shape"
   ]
  },
  {
   "cell_type": "code",
   "execution_count": 25,
   "metadata": {
    "colab": {
     "base_uri": "https://localhost:8080/"
    },
    "id": "5l3QfN6Gdr9Y",
    "outputId": "34ff065f-d340-49ec-e431-9d7f1c561d59"
   },
   "outputs": [
    {
     "data": {
      "text/plain": [
       "count     3469.000000\n",
       "mean      5779.941193\n",
       "std       5239.053802\n",
       "min        204.000000\n",
       "25%       2930.000000\n",
       "50%       4290.000000\n",
       "75%       6820.000000\n",
       "max      93750.000000\n",
       "Name: Price_per_sqft, dtype: float64"
      ]
     },
     "execution_count": 25,
     "metadata": {},
     "output_type": "execute_result"
    }
   ],
   "source": [
    "#pricing per sqft abnormal\n",
    "#describe method gives stats about a column\n",
    "ds6.Price_per_sqft.describe()\n"
   ]
  },
  {
   "cell_type": "code",
   "execution_count": 26,
   "metadata": {
    "colab": {
     "base_uri": "https://localhost:8080/"
    },
    "id": "9vYAPZEzeH3T",
    "outputId": "bffdd94d-2946-43d3-f23d-2b866efa6b28"
   },
   "outputs": [
    {
     "data": {
      "text/plain": [
       "(2576, 8)"
      ]
     },
     "execution_count": 26,
     "metadata": {},
     "output_type": "execute_result"
    }
   ],
   "source": [
    "#removing extremities\n",
    "#Per location finding mean and SD and filtering out where SD>1\n",
    "def remove_outliers_ppsqft(ds):\n",
    "  ds_out=pd.DataFrame()\n",
    "  for key,subdf in ds.groupby('Region'):\n",
    "    m=np.mean(subdf.Price_per_sqft)\n",
    "    sd=np.std(subdf.Price_per_sqft)\n",
    "    reduced_df=subdf[(subdf.Price_per_sqft>(m-sd))&(subdf.Price_per_sqft<=(m+sd))]\n",
    "    ds_out=pd.concat([ds_out,reduced_df],ignore_index=True)\n",
    "  return ds_out\n",
    "\n",
    "\n",
    "ds7=remove_outliers_ppsqft(ds6)\n",
    "ds7.shape"
   ]
  },
  {
   "cell_type": "code",
   "execution_count": 27,
   "metadata": {
    "colab": {
     "base_uri": "https://localhost:8080/",
     "height": 780
    },
    "id": "KP9TlqQogbto",
    "outputId": "32ef4a4d-a164-4a48-e0e6-2b96590e9148"
   },
   "outputs": [
    {
     "data": {
      "image/png": "[encoded data removed]",
      "text/plain": [
       "<Figure size 1500x1000 with 1 Axes>"
      ]
     },
     "metadata": {},
     "output_type": "display_data"
    }
   ],
   "source": [
    "#scatter plot to visualize where same sqft variant bhk has anomaly pricing\n",
    "def plot_scatt_chart(ds,location):\n",
    "  bhk2=ds[(ds.Region==location)&(ds.BHK==4)]\n",
    "  bhk3=ds[(ds.Region==location)&(ds.BHK==6)]\n",
    "  matplotlib.rcParams['figure.figsize']=(15,10)\n",
    "  plt.scatter(bhk2.Total_Sqft,bhk2.Price_per_sqft,color='blue',label='4 BHK',s=50)\n",
    "  plt.scatter(bhk3.Total_Sqft,bhk3.Price_per_sqft,marker='+',color='green',label='6 BHK',s=50)\n",
    "  plt.xlabel(\"Total Square Feet Area\")\n",
    "  plt.ylabel(\"Price Per Square Feet\")\n",
    "  plt.title(location)\n",
    "  plt.legend()\n",
    "\n",
    "plot_scatt_chart(ds7,\"Garia\")"
   ]
  },
  {
   "cell_type": "code",
   "execution_count": 28,
   "metadata": {
    "colab": {
     "base_uri": "https://localhost:8080/"
    },
    "id": "b5pxopxKnG2X",
    "outputId": "18a13c29-c294-4475-f203-b063da24cb12"
   },
   "outputs": [
    {
     "data": {
      "text/plain": [
       "(2104, 8)"
      ]
     },
     "execution_count": 28,
     "metadata": {},
     "output_type": "execute_result"
    }
   ],
   "source": [
    "def remove_outliers_bhk(ds):\n",
    "  exclude_indices=np.array([])\n",
    "  for location,location_df in ds.groupby('Region'):\n",
    "    bhk_stats={}\n",
    "    for bhk,bhk_df in location_df.groupby('BHK'):\n",
    "      bhk_stats[bhk]={\n",
    "          'mean':np.mean(bhk_df.Price_per_sqft),\n",
    "          'std':np.std(bhk_df.Price_per_sqft),\n",
    "          'count':bhk_df.shape[0]\n",
    "      }\n",
    "      for bhk,bhk_df in location_df.groupby('BHK'):\n",
    "        stats= bhk_stats.get(bhk-1)\n",
    "        if stats and stats['count']>5:\n",
    "          exclude_indices=np.append(exclude_indices,bhk_df[bhk_df.Price_per_sqft<(stats['mean'])].index.values)\n",
    "  return ds.drop(exclude_indices,axis='index')\n",
    "\n",
    "ds8=remove_outliers_bhk(ds7)\n",
    "ds8.shape"
   ]
  },
  {
   "cell_type": "code",
   "execution_count": 29,
   "metadata": {
    "colab": {
     "base_uri": "https://localhost:8080/",
     "height": 780
    },
    "id": "WHge-rfGomF9",
    "outputId": "94f78e63-bc4c-46a8-dac5-ae1e800493ef"
   },
   "outputs": [
    {
     "data": {
      "image/png": "[encoded data removed]",
      "text/plain": [
       "<Figure size 1500x1000 with 1 Axes>"
      ]
     },
     "metadata": {},
     "output_type": "display_data"
    }
   ],
   "source": [
    "plot_scatt_chart(ds8,\"Garia\")"
   ]
  },
  {
   "cell_type": "code",
   "execution_count": 30,
   "metadata": {
    "colab": {
     "base_uri": "https://localhost:8080/",
     "height": 605
    },
    "id": "m9dKQfNGo8xF",
    "outputId": "761c5ddb-905c-49aa-fd89-e01e69e3e3b8"
   },
   "outputs": [
    {
     "data": {
      "text/plain": [
       "Text(0, 0.5, 'Count')"
      ]
     },
     "execution_count": 30,
     "metadata": {},
     "output_type": "execute_result"
    },
    {
     "data": {
      "image/png": "[encoded data removed]",
      "text/plain": [
       "<Figure size 2000x1000 with 1 Axes>"
      ]
     },
     "metadata": {},
     "output_type": "display_data"
    }
   ],
   "source": [
    "import matplotlib\n",
    "matplotlib.rcParams[\"figure.figsize\"]=(20,10)\n",
    "plt.hist(ds8.Price_per_sqft,rwidth=0.8)\n",
    "plt.xlabel(\"Price Per Square Feet\")\n",
    "plt.ylabel(\"Count\")"
   ]
  },
  {
   "cell_type": "code",
   "execution_count": 31,
   "metadata": {
    "colab": {
     "base_uri": "https://localhost:8080/",
     "height": 206
    },
    "id": "QlZNjP9Kp1hp",
    "outputId": "31f53b12-45ef-4f3e-b3b6-2b768379e36e"
   },
   "outputs": [
    {
     "data": {
      "text/html": [
       "<div>\n",
       "<style scoped>\n",
       "    .dataframe tbody tr th:only-of-type {\n",
       "        vertical-align: middle;\n",
       "    }\n",
       "\n",
       "    .dataframe tbody tr th {\n",
       "        vertical-align: top;\n",
       "    }\n",
       "\n",
       "    .dataframe thead th {\n",
       "        text-align: right;\n",
       "    }\n",
       "</style>\n",
       "<table border=\"1\" class=\"dataframe\">\n",
       "  <thead>\n",
       "    <tr style=\"text-align: right;\">\n",
       "      <th></th>\n",
       "      <th>Flat_Price</th>\n",
       "      <th>EMI_Starts</th>\n",
       "      <th>BHK</th>\n",
       "      <th>Location</th>\n",
       "      <th>Total_Sqft</th>\n",
       "      <th>Region</th>\n",
       "    </tr>\n",
       "  </thead>\n",
       "  <tbody>\n",
       "    <tr>\n",
       "      <th>0</th>\n",
       "      <td>4000000.0</td>\n",
       "      <td>21180.0</td>\n",
       "      <td>2.0</td>\n",
       "      <td>Agarpara, Kolkata</td>\n",
       "      <td>1000.0</td>\n",
       "      <td>Agarpara</td>\n",
       "    </tr>\n",
       "    <tr>\n",
       "      <th>1</th>\n",
       "      <td>4000000.0</td>\n",
       "      <td>21180.0</td>\n",
       "      <td>2.0</td>\n",
       "      <td>Agarpara, Kolkata</td>\n",
       "      <td>1000.0</td>\n",
       "      <td>Agarpara</td>\n",
       "    </tr>\n",
       "    <tr>\n",
       "      <th>2</th>\n",
       "      <td>5500000.0</td>\n",
       "      <td>29130.0</td>\n",
       "      <td>3.0</td>\n",
       "      <td>Agarpara, Kolkata</td>\n",
       "      <td>1600.0</td>\n",
       "      <td>Agarpara</td>\n",
       "    </tr>\n",
       "    <tr>\n",
       "      <th>3</th>\n",
       "      <td>5500000.0</td>\n",
       "      <td>29130.0</td>\n",
       "      <td>3.0</td>\n",
       "      <td>Agarpara, Kolkata</td>\n",
       "      <td>1600.0</td>\n",
       "      <td>Agarpara</td>\n",
       "    </tr>\n",
       "    <tr>\n",
       "      <th>4</th>\n",
       "      <td>8000000.0</td>\n",
       "      <td>39720.0</td>\n",
       "      <td>4.0</td>\n",
       "      <td>Agarpara, Kolkata</td>\n",
       "      <td>1500.0</td>\n",
       "      <td>Agarpara</td>\n",
       "    </tr>\n",
       "  </tbody>\n",
       "</table>\n",
       "</div>"
      ],
      "text/plain": [
       "   Flat_Price  EMI_Starts  BHK           Location  Total_Sqft    Region\n",
       "0   4000000.0     21180.0  2.0  Agarpara, Kolkata      1000.0  Agarpara\n",
       "1   4000000.0     21180.0  2.0  Agarpara, Kolkata      1000.0  Agarpara\n",
       "2   5500000.0     29130.0  3.0  Agarpara, Kolkata      1600.0  Agarpara\n",
       "3   5500000.0     29130.0  3.0  Agarpara, Kolkata      1600.0  Agarpara\n",
       "4   8000000.0     39720.0  4.0  Agarpara, Kolkata      1500.0  Agarpara"
      ]
     },
     "execution_count": 31,
     "metadata": {},
     "output_type": "execute_result"
    }
   ],
   "source": [
    "ds9=ds8.drop(['HOUSE_TYPE','Price_per_sqft'],axis='columns')\n",
    "ds9.head()"
   ]
  },
  {
   "cell_type": "code",
   "execution_count": 32,
   "metadata": {
    "colab": {
     "base_uri": "https://localhost:8080/",
     "height": 290
    },
    "id": "AWynrWmCsrtG",
    "outputId": "877a5fd6-655d-466c-b4b1-c8aa20e6cca7"
   },
   "outputs": [
    {
     "data": {
      "text/html": [
       "<div>\n",
       "<style scoped>\n",
       "    .dataframe tbody tr th:only-of-type {\n",
       "        vertical-align: middle;\n",
       "    }\n",
       "\n",
       "    .dataframe tbody tr th {\n",
       "        vertical-align: top;\n",
       "    }\n",
       "\n",
       "    .dataframe thead th {\n",
       "        text-align: right;\n",
       "    }\n",
       "</style>\n",
       "<table border=\"1\" class=\"dataframe\">\n",
       "  <thead>\n",
       "    <tr style=\"text-align: right;\">\n",
       "      <th></th>\n",
       "      <th>Agarpara</th>\n",
       "      <th>Alipore</th>\n",
       "      <th>Amtala</th>\n",
       "      <th>Ariadaha</th>\n",
       "      <th>Ashokgarh</th>\n",
       "      <th>Baghajatin</th>\n",
       "      <th>Baghbazar</th>\n",
       "      <th>Bagpota</th>\n",
       "      <th>Baguiati</th>\n",
       "      <th>Baguihati</th>\n",
       "      <th>...</th>\n",
       "      <th>South Dum Dum</th>\n",
       "      <th>Srirampur</th>\n",
       "      <th>Taltala</th>\n",
       "      <th>Tangra</th>\n",
       "      <th>Thakurpukur</th>\n",
       "      <th>Tiljala</th>\n",
       "      <th>Tollygunge</th>\n",
       "      <th>Topsia</th>\n",
       "      <th>Ward No 113</th>\n",
       "      <th>other</th>\n",
       "    </tr>\n",
       "  </thead>\n",
       "  <tbody>\n",
       "    <tr>\n",
       "      <th>0</th>\n",
       "      <td>True</td>\n",
       "      <td>False</td>\n",
       "      <td>False</td>\n",
       "      <td>False</td>\n",
       "      <td>False</td>\n",
       "      <td>False</td>\n",
       "      <td>False</td>\n",
       "      <td>False</td>\n",
       "      <td>False</td>\n",
       "      <td>False</td>\n",
       "      <td>...</td>\n",
       "      <td>False</td>\n",
       "      <td>False</td>\n",
       "      <td>False</td>\n",
       "      <td>False</td>\n",
       "      <td>False</td>\n",
       "      <td>False</td>\n",
       "      <td>False</td>\n",
       "      <td>False</td>\n",
       "      <td>False</td>\n",
       "      <td>False</td>\n",
       "    </tr>\n",
       "    <tr>\n",
       "      <th>1</th>\n",
       "      <td>True</td>\n",
       "      <td>False</td>\n",
       "      <td>False</td>\n",
       "      <td>False</td>\n",
       "      <td>False</td>\n",
       "      <td>False</td>\n",
       "      <td>False</td>\n",
       "      <td>False</td>\n",
       "      <td>False</td>\n",
       "      <td>False</td>\n",
       "      <td>...</td>\n",
       "      <td>False</td>\n",
       "      <td>False</td>\n",
       "      <td>False</td>\n",
       "      <td>False</td>\n",
       "      <td>False</td>\n",
       "      <td>False</td>\n",
       "      <td>False</td>\n",
       "      <td>False</td>\n",
       "      <td>False</td>\n",
       "      <td>False</td>\n",
       "    </tr>\n",
       "    <tr>\n",
       "      <th>2</th>\n",
       "      <td>True</td>\n",
       "      <td>False</td>\n",
       "      <td>False</td>\n",
       "      <td>False</td>\n",
       "      <td>False</td>\n",
       "      <td>False</td>\n",
       "      <td>False</td>\n",
       "      <td>False</td>\n",
       "      <td>False</td>\n",
       "      <td>False</td>\n",
       "      <td>...</td>\n",
       "      <td>False</td>\n",
       "      <td>False</td>\n",
       "      <td>False</td>\n",
       "      <td>False</td>\n",
       "      <td>False</td>\n",
       "      <td>False</td>\n",
       "      <td>False</td>\n",
       "      <td>False</td>\n",
       "      <td>False</td>\n",
       "      <td>False</td>\n",
       "    </tr>\n",
       "    <tr>\n",
       "      <th>3</th>\n",
       "      <td>True</td>\n",
       "      <td>False</td>\n",
       "      <td>False</td>\n",
       "      <td>False</td>\n",
       "      <td>False</td>\n",
       "      <td>False</td>\n",
       "      <td>False</td>\n",
       "      <td>False</td>\n",
       "      <td>False</td>\n",
       "      <td>False</td>\n",
       "      <td>...</td>\n",
       "      <td>False</td>\n",
       "      <td>False</td>\n",
       "      <td>False</td>\n",
       "      <td>False</td>\n",
       "      <td>False</td>\n",
       "      <td>False</td>\n",
       "      <td>False</td>\n",
       "      <td>False</td>\n",
       "      <td>False</td>\n",
       "      <td>False</td>\n",
       "    </tr>\n",
       "    <tr>\n",
       "      <th>4</th>\n",
       "      <td>True</td>\n",
       "      <td>False</td>\n",
       "      <td>False</td>\n",
       "      <td>False</td>\n",
       "      <td>False</td>\n",
       "      <td>False</td>\n",
       "      <td>False</td>\n",
       "      <td>False</td>\n",
       "      <td>False</td>\n",
       "      <td>False</td>\n",
       "      <td>...</td>\n",
       "      <td>False</td>\n",
       "      <td>False</td>\n",
       "      <td>False</td>\n",
       "      <td>False</td>\n",
       "      <td>False</td>\n",
       "      <td>False</td>\n",
       "      <td>False</td>\n",
       "      <td>False</td>\n",
       "      <td>False</td>\n",
       "      <td>False</td>\n",
       "    </tr>\n",
       "  </tbody>\n",
       "</table>\n",
       "<p>5 rows × 140 columns</p>\n",
       "</div>"
      ],
      "text/plain": [
       "   Agarpara  Alipore  Amtala  Ariadaha  Ashokgarh  Baghajatin  Baghbazar  \\\n",
       "0      True    False   False     False      False       False      False   \n",
       "1      True    False   False     False      False       False      False   \n",
       "2      True    False   False     False      False       False      False   \n",
       "3      True    False   False     False      False       False      False   \n",
       "4      True    False   False     False      False       False      False   \n",
       "\n",
       "   Bagpota  Baguiati  Baguihati  ...  South Dum Dum  Srirampur  Taltala  \\\n",
       "0    False     False      False  ...          False      False    False   \n",
       "1    False     False      False  ...          False      False    False   \n",
       "2    False     False      False  ...          False      False    False   \n",
       "3    False     False      False  ...          False      False    False   \n",
       "4    False     False      False  ...          False      False    False   \n",
       "\n",
       "   Tangra  Thakurpukur  Tiljala  Tollygunge  Topsia  Ward No 113  other  \n",
       "0   False        False    False       False   False        False  False  \n",
       "1   False        False    False       False   False        False  False  \n",
       "2   False        False    False       False   False        False  False  \n",
       "3   False        False    False       False   False        False  False  \n",
       "4   False        False    False       False   False        False  False  \n",
       "\n",
       "[5 rows x 140 columns]"
      ]
     },
     "execution_count": 32,
     "metadata": {},
     "output_type": "execute_result"
    }
   ],
   "source": [
    "#hot_encoding or dummies\n",
    "#model building\n",
    "dummy = pd.get_dummies(ds9.Region)\n",
    "dummy.head()"
   ]
  },
  {
   "cell_type": "code",
   "execution_count": 33,
   "metadata": {
    "colab": {
     "base_uri": "https://localhost:8080/",
     "height": 377
    },
    "id": "HJibJ6brtg-X",
    "outputId": "d5f5267f-d762-41fe-f765-18a0d1a47902"
   },
   "outputs": [
    {
     "data": {
      "text/html": [
       "<div>\n",
       "<style scoped>\n",
       "    .dataframe tbody tr th:only-of-type {\n",
       "        vertical-align: middle;\n",
       "    }\n",
       "\n",
       "    .dataframe tbody tr th {\n",
       "        vertical-align: top;\n",
       "    }\n",
       "\n",
       "    .dataframe thead th {\n",
       "        text-align: right;\n",
       "    }\n",
       "</style>\n",
       "<table border=\"1\" class=\"dataframe\">\n",
       "  <thead>\n",
       "    <tr style=\"text-align: right;\">\n",
       "      <th></th>\n",
       "      <th>Flat_Price</th>\n",
       "      <th>EMI_Starts</th>\n",
       "      <th>BHK</th>\n",
       "      <th>Location</th>\n",
       "      <th>Total_Sqft</th>\n",
       "      <th>Region</th>\n",
       "      <th>Agarpara</th>\n",
       "      <th>Alipore</th>\n",
       "      <th>Amtala</th>\n",
       "      <th>Ariadaha</th>\n",
       "      <th>...</th>\n",
       "      <th>Sodepur</th>\n",
       "      <th>South Dum Dum</th>\n",
       "      <th>Srirampur</th>\n",
       "      <th>Taltala</th>\n",
       "      <th>Tangra</th>\n",
       "      <th>Thakurpukur</th>\n",
       "      <th>Tiljala</th>\n",
       "      <th>Tollygunge</th>\n",
       "      <th>Topsia</th>\n",
       "      <th>Ward No 113</th>\n",
       "    </tr>\n",
       "  </thead>\n",
       "  <tbody>\n",
       "    <tr>\n",
       "      <th>0</th>\n",
       "      <td>4000000.0</td>\n",
       "      <td>21180.0</td>\n",
       "      <td>2.0</td>\n",
       "      <td>Agarpara, Kolkata</td>\n",
       "      <td>1000.0</td>\n",
       "      <td>Agarpara</td>\n",
       "      <td>True</td>\n",
       "      <td>False</td>\n",
       "      <td>False</td>\n",
       "      <td>False</td>\n",
       "      <td>...</td>\n",
       "      <td>False</td>\n",
       "      <td>False</td>\n",
       "      <td>False</td>\n",
       "      <td>False</td>\n",
       "      <td>False</td>\n",
       "      <td>False</td>\n",
       "      <td>False</td>\n",
       "      <td>False</td>\n",
       "      <td>False</td>\n",
       "      <td>False</td>\n",
       "    </tr>\n",
       "    <tr>\n",
       "      <th>1</th>\n",
       "      <td>4000000.0</td>\n",
       "      <td>21180.0</td>\n",
       "      <td>2.0</td>\n",
       "      <td>Agarpara, Kolkata</td>\n",
       "      <td>1000.0</td>\n",
       "      <td>Agarpara</td>\n",
       "      <td>True</td>\n",
       "      <td>False</td>\n",
       "      <td>False</td>\n",
       "      <td>False</td>\n",
       "      <td>...</td>\n",
       "      <td>False</td>\n",
       "      <td>False</td>\n",
       "      <td>False</td>\n",
       "      <td>False</td>\n",
       "      <td>False</td>\n",
       "      <td>False</td>\n",
       "      <td>False</td>\n",
       "      <td>False</td>\n",
       "      <td>False</td>\n",
       "      <td>False</td>\n",
       "    </tr>\n",
       "    <tr>\n",
       "      <th>2</th>\n",
       "      <td>5500000.0</td>\n",
       "      <td>29130.0</td>\n",
       "      <td>3.0</td>\n",
       "      <td>Agarpara, Kolkata</td>\n",
       "      <td>1600.0</td>\n",
       "      <td>Agarpara</td>\n",
       "      <td>True</td>\n",
       "      <td>False</td>\n",
       "      <td>False</td>\n",
       "      <td>False</td>\n",
       "      <td>...</td>\n",
       "      <td>False</td>\n",
       "      <td>False</td>\n",
       "      <td>False</td>\n",
       "      <td>False</td>\n",
       "      <td>False</td>\n",
       "      <td>False</td>\n",
       "      <td>False</td>\n",
       "      <td>False</td>\n",
       "      <td>False</td>\n",
       "      <td>False</td>\n",
       "    </tr>\n",
       "    <tr>\n",
       "      <th>3</th>\n",
       "      <td>5500000.0</td>\n",
       "      <td>29130.0</td>\n",
       "      <td>3.0</td>\n",
       "      <td>Agarpara, Kolkata</td>\n",
       "      <td>1600.0</td>\n",
       "      <td>Agarpara</td>\n",
       "      <td>True</td>\n",
       "      <td>False</td>\n",
       "      <td>False</td>\n",
       "      <td>False</td>\n",
       "      <td>...</td>\n",
       "      <td>False</td>\n",
       "      <td>False</td>\n",
       "      <td>False</td>\n",
       "      <td>False</td>\n",
       "      <td>False</td>\n",
       "      <td>False</td>\n",
       "      <td>False</td>\n",
       "      <td>False</td>\n",
       "      <td>False</td>\n",
       "      <td>False</td>\n",
       "    </tr>\n",
       "    <tr>\n",
       "      <th>4</th>\n",
       "      <td>8000000.0</td>\n",
       "      <td>39720.0</td>\n",
       "      <td>4.0</td>\n",
       "      <td>Agarpara, Kolkata</td>\n",
       "      <td>1500.0</td>\n",
       "      <td>Agarpara</td>\n",
       "      <td>True</td>\n",
       "      <td>False</td>\n",
       "      <td>False</td>\n",
       "      <td>False</td>\n",
       "      <td>...</td>\n",
       "      <td>False</td>\n",
       "      <td>False</td>\n",
       "      <td>False</td>\n",
       "      <td>False</td>\n",
       "      <td>False</td>\n",
       "      <td>False</td>\n",
       "      <td>False</td>\n",
       "      <td>False</td>\n",
       "      <td>False</td>\n",
       "      <td>False</td>\n",
       "    </tr>\n",
       "  </tbody>\n",
       "</table>\n",
       "<p>5 rows × 145 columns</p>\n",
       "</div>"
      ],
      "text/plain": [
       "   Flat_Price  EMI_Starts  BHK           Location  Total_Sqft    Region  \\\n",
       "0   4000000.0     21180.0  2.0  Agarpara, Kolkata      1000.0  Agarpara   \n",
       "1   4000000.0     21180.0  2.0  Agarpara, Kolkata      1000.0  Agarpara   \n",
       "2   5500000.0     29130.0  3.0  Agarpara, Kolkata      1600.0  Agarpara   \n",
       "3   5500000.0     29130.0  3.0  Agarpara, Kolkata      1600.0  Agarpara   \n",
       "4   8000000.0     39720.0  4.0  Agarpara, Kolkata      1500.0  Agarpara   \n",
       "\n",
       "   Agarpara  Alipore  Amtala  Ariadaha  ...  Sodepur  South Dum Dum  \\\n",
       "0      True    False   False     False  ...    False          False   \n",
       "1      True    False   False     False  ...    False          False   \n",
       "2      True    False   False     False  ...    False          False   \n",
       "3      True    False   False     False  ...    False          False   \n",
       "4      True    False   False     False  ...    False          False   \n",
       "\n",
       "   Srirampur  Taltala  Tangra  Thakurpukur  Tiljala  Tollygunge  Topsia  \\\n",
       "0      False    False   False        False    False       False   False   \n",
       "1      False    False   False        False    False       False   False   \n",
       "2      False    False   False        False    False       False   False   \n",
       "3      False    False   False        False    False       False   False   \n",
       "4      False    False   False        False    False       False   False   \n",
       "\n",
       "   Ward No 113  \n",
       "0        False  \n",
       "1        False  \n",
       "2        False  \n",
       "3        False  \n",
       "4        False  \n",
       "\n",
       "[5 rows x 145 columns]"
      ]
     },
     "execution_count": 33,
     "metadata": {},
     "output_type": "execute_result"
    }
   ],
   "source": [
    "ds10=pd.concat([ds9,dummy.drop('other',axis='columns')],axis='columns')\n",
    "ds10.head()"
   ]
  },
  {
   "cell_type": "code",
   "execution_count": 34,
   "metadata": {
    "colab": {
     "base_uri": "https://localhost:8080/",
     "height": 377
    },
    "id": "OP05607kuN-s",
    "outputId": "0e58d11e-d4c0-4682-90f6-ca3c68a1b1b4"
   },
   "outputs": [
    {
     "data": {
      "text/html": [
       "<div>\n",
       "<style scoped>\n",
       "    .dataframe tbody tr th:only-of-type {\n",
       "        vertical-align: middle;\n",
       "    }\n",
       "\n",
       "    .dataframe tbody tr th {\n",
       "        vertical-align: top;\n",
       "    }\n",
       "\n",
       "    .dataframe thead th {\n",
       "        text-align: right;\n",
       "    }\n",
       "</style>\n",
       "<table border=\"1\" class=\"dataframe\">\n",
       "  <thead>\n",
       "    <tr style=\"text-align: right;\">\n",
       "      <th></th>\n",
       "      <th>Flat_Price</th>\n",
       "      <th>EMI_Starts</th>\n",
       "      <th>BHK</th>\n",
       "      <th>Location</th>\n",
       "      <th>Total_Sqft</th>\n",
       "      <th>Agarpara</th>\n",
       "      <th>Alipore</th>\n",
       "      <th>Amtala</th>\n",
       "      <th>Ariadaha</th>\n",
       "      <th>Ashokgarh</th>\n",
       "      <th>...</th>\n",
       "      <th>Sodepur</th>\n",
       "      <th>South Dum Dum</th>\n",
       "      <th>Srirampur</th>\n",
       "      <th>Taltala</th>\n",
       "      <th>Tangra</th>\n",
       "      <th>Thakurpukur</th>\n",
       "      <th>Tiljala</th>\n",
       "      <th>Tollygunge</th>\n",
       "      <th>Topsia</th>\n",
       "      <th>Ward No 113</th>\n",
       "    </tr>\n",
       "  </thead>\n",
       "  <tbody>\n",
       "    <tr>\n",
       "      <th>0</th>\n",
       "      <td>4000000.0</td>\n",
       "      <td>21180.0</td>\n",
       "      <td>2.0</td>\n",
       "      <td>Agarpara, Kolkata</td>\n",
       "      <td>1000.0</td>\n",
       "      <td>True</td>\n",
       "      <td>False</td>\n",
       "      <td>False</td>\n",
       "      <td>False</td>\n",
       "      <td>False</td>\n",
       "      <td>...</td>\n",
       "      <td>False</td>\n",
       "      <td>False</td>\n",
       "      <td>False</td>\n",
       "      <td>False</td>\n",
       "      <td>False</td>\n",
       "      <td>False</td>\n",
       "      <td>False</td>\n",
       "      <td>False</td>\n",
       "      <td>False</td>\n",
       "      <td>False</td>\n",
       "    </tr>\n",
       "    <tr>\n",
       "      <th>1</th>\n",
       "      <td>4000000.0</td>\n",
       "      <td>21180.0</td>\n",
       "      <td>2.0</td>\n",
       "      <td>Agarpara, Kolkata</td>\n",
       "      <td>1000.0</td>\n",
       "      <td>True</td>\n",
       "      <td>False</td>\n",
       "      <td>False</td>\n",
       "      <td>False</td>\n",
       "      <td>False</td>\n",
       "      <td>...</td>\n",
       "      <td>False</td>\n",
       "      <td>False</td>\n",
       "      <td>False</td>\n",
       "      <td>False</td>\n",
       "      <td>False</td>\n",
       "      <td>False</td>\n",
       "      <td>False</td>\n",
       "      <td>False</td>\n",
       "      <td>False</td>\n",
       "      <td>False</td>\n",
       "    </tr>\n",
       "    <tr>\n",
       "      <th>2</th>\n",
       "      <td>5500000.0</td>\n",
       "      <td>29130.0</td>\n",
       "      <td>3.0</td>\n",
       "      <td>Agarpara, Kolkata</td>\n",
       "      <td>1600.0</td>\n",
       "      <td>True</td>\n",
       "      <td>False</td>\n",
       "      <td>False</td>\n",
       "      <td>False</td>\n",
       "      <td>False</td>\n",
       "      <td>...</td>\n",
       "      <td>False</td>\n",
       "      <td>False</td>\n",
       "      <td>False</td>\n",
       "      <td>False</td>\n",
       "      <td>False</td>\n",
       "      <td>False</td>\n",
       "      <td>False</td>\n",
       "      <td>False</td>\n",
       "      <td>False</td>\n",
       "      <td>False</td>\n",
       "    </tr>\n",
       "    <tr>\n",
       "      <th>3</th>\n",
       "      <td>5500000.0</td>\n",
       "      <td>29130.0</td>\n",
       "      <td>3.0</td>\n",
       "      <td>Agarpara, Kolkata</td>\n",
       "      <td>1600.0</td>\n",
       "      <td>True</td>\n",
       "      <td>False</td>\n",
       "      <td>False</td>\n",
       "      <td>False</td>\n",
       "      <td>False</td>\n",
       "      <td>...</td>\n",
       "      <td>False</td>\n",
       "      <td>False</td>\n",
       "      <td>False</td>\n",
       "      <td>False</td>\n",
       "      <td>False</td>\n",
       "      <td>False</td>\n",
       "      <td>False</td>\n",
       "      <td>False</td>\n",
       "      <td>False</td>\n",
       "      <td>False</td>\n",
       "    </tr>\n",
       "    <tr>\n",
       "      <th>4</th>\n",
       "      <td>8000000.0</td>\n",
       "      <td>39720.0</td>\n",
       "      <td>4.0</td>\n",
       "      <td>Agarpara, Kolkata</td>\n",
       "      <td>1500.0</td>\n",
       "      <td>True</td>\n",
       "      <td>False</td>\n",
       "      <td>False</td>\n",
       "      <td>False</td>\n",
       "      <td>False</td>\n",
       "      <td>...</td>\n",
       "      <td>False</td>\n",
       "      <td>False</td>\n",
       "      <td>False</td>\n",
       "      <td>False</td>\n",
       "      <td>False</td>\n",
       "      <td>False</td>\n",
       "      <td>False</td>\n",
       "      <td>False</td>\n",
       "      <td>False</td>\n",
       "      <td>False</td>\n",
       "    </tr>\n",
       "  </tbody>\n",
       "</table>\n",
       "<p>5 rows × 144 columns</p>\n",
       "</div>"
      ],
      "text/plain": [
       "   Flat_Price  EMI_Starts  BHK           Location  Total_Sqft  Agarpara  \\\n",
       "0   4000000.0     21180.0  2.0  Agarpara, Kolkata      1000.0      True   \n",
       "1   4000000.0     21180.0  2.0  Agarpara, Kolkata      1000.0      True   \n",
       "2   5500000.0     29130.0  3.0  Agarpara, Kolkata      1600.0      True   \n",
       "3   5500000.0     29130.0  3.0  Agarpara, Kolkata      1600.0      True   \n",
       "4   8000000.0     39720.0  4.0  Agarpara, Kolkata      1500.0      True   \n",
       "\n",
       "   Alipore  Amtala  Ariadaha  Ashokgarh  ...  Sodepur  South Dum Dum  \\\n",
       "0    False   False     False      False  ...    False          False   \n",
       "1    False   False     False      False  ...    False          False   \n",
       "2    False   False     False      False  ...    False          False   \n",
       "3    False   False     False      False  ...    False          False   \n",
       "4    False   False     False      False  ...    False          False   \n",
       "\n",
       "   Srirampur  Taltala  Tangra  Thakurpukur  Tiljala  Tollygunge  Topsia  \\\n",
       "0      False    False   False        False    False       False   False   \n",
       "1      False    False   False        False    False       False   False   \n",
       "2      False    False   False        False    False       False   False   \n",
       "3      False    False   False        False    False       False   False   \n",
       "4      False    False   False        False    False       False   False   \n",
       "\n",
       "   Ward No 113  \n",
       "0        False  \n",
       "1        False  \n",
       "2        False  \n",
       "3        False  \n",
       "4        False  \n",
       "\n",
       "[5 rows x 144 columns]"
      ]
     },
     "execution_count": 34,
     "metadata": {},
     "output_type": "execute_result"
    }
   ],
   "source": [
    "ds11=ds10.drop('Region',axis='columns')\n",
    "ds11.head()\n"
   ]
  },
  {
   "cell_type": "code",
   "execution_count": 35,
   "metadata": {
    "colab": {
     "base_uri": "https://localhost:8080/",
     "height": 290
    },
    "id": "2B6ABCTPwktK",
    "outputId": "981b84d8-4af0-4a84-9284-4bc5c7e6317f"
   },
   "outputs": [
    {
     "data": {
      "text/html": [
       "<div>\n",
       "<style scoped>\n",
       "    .dataframe tbody tr th:only-of-type {\n",
       "        vertical-align: middle;\n",
       "    }\n",
       "\n",
       "    .dataframe tbody tr th {\n",
       "        vertical-align: top;\n",
       "    }\n",
       "\n",
       "    .dataframe thead th {\n",
       "        text-align: right;\n",
       "    }\n",
       "</style>\n",
       "<table border=\"1\" class=\"dataframe\">\n",
       "  <thead>\n",
       "    <tr style=\"text-align: right;\">\n",
       "      <th></th>\n",
       "      <th>Flat_Price</th>\n",
       "      <th>EMI_Starts</th>\n",
       "      <th>BHK</th>\n",
       "      <th>Total_Sqft</th>\n",
       "      <th>Agarpara</th>\n",
       "      <th>Alipore</th>\n",
       "      <th>Amtala</th>\n",
       "      <th>Ariadaha</th>\n",
       "      <th>Ashokgarh</th>\n",
       "      <th>Baghajatin</th>\n",
       "      <th>...</th>\n",
       "      <th>Sodepur</th>\n",
       "      <th>South Dum Dum</th>\n",
       "      <th>Srirampur</th>\n",
       "      <th>Taltala</th>\n",
       "      <th>Tangra</th>\n",
       "      <th>Thakurpukur</th>\n",
       "      <th>Tiljala</th>\n",
       "      <th>Tollygunge</th>\n",
       "      <th>Topsia</th>\n",
       "      <th>Ward No 113</th>\n",
       "    </tr>\n",
       "  </thead>\n",
       "  <tbody>\n",
       "    <tr>\n",
       "      <th>0</th>\n",
       "      <td>4000000.0</td>\n",
       "      <td>21180.0</td>\n",
       "      <td>2.0</td>\n",
       "      <td>1000.0</td>\n",
       "      <td>True</td>\n",
       "      <td>False</td>\n",
       "      <td>False</td>\n",
       "      <td>False</td>\n",
       "      <td>False</td>\n",
       "      <td>False</td>\n",
       "      <td>...</td>\n",
       "      <td>False</td>\n",
       "      <td>False</td>\n",
       "      <td>False</td>\n",
       "      <td>False</td>\n",
       "      <td>False</td>\n",
       "      <td>False</td>\n",
       "      <td>False</td>\n",
       "      <td>False</td>\n",
       "      <td>False</td>\n",
       "      <td>False</td>\n",
       "    </tr>\n",
       "    <tr>\n",
       "      <th>1</th>\n",
       "      <td>4000000.0</td>\n",
       "      <td>21180.0</td>\n",
       "      <td>2.0</td>\n",
       "      <td>1000.0</td>\n",
       "      <td>True</td>\n",
       "      <td>False</td>\n",
       "      <td>False</td>\n",
       "      <td>False</td>\n",
       "      <td>False</td>\n",
       "      <td>False</td>\n",
       "      <td>...</td>\n",
       "      <td>False</td>\n",
       "      <td>False</td>\n",
       "      <td>False</td>\n",
       "      <td>False</td>\n",
       "      <td>False</td>\n",
       "      <td>False</td>\n",
       "      <td>False</td>\n",
       "      <td>False</td>\n",
       "      <td>False</td>\n",
       "      <td>False</td>\n",
       "    </tr>\n",
       "    <tr>\n",
       "      <th>2</th>\n",
       "      <td>5500000.0</td>\n",
       "      <td>29130.0</td>\n",
       "      <td>3.0</td>\n",
       "      <td>1600.0</td>\n",
       "      <td>True</td>\n",
       "      <td>False</td>\n",
       "      <td>False</td>\n",
       "      <td>False</td>\n",
       "      <td>False</td>\n",
       "      <td>False</td>\n",
       "      <td>...</td>\n",
       "      <td>False</td>\n",
       "      <td>False</td>\n",
       "      <td>False</td>\n",
       "      <td>False</td>\n",
       "      <td>False</td>\n",
       "      <td>False</td>\n",
       "      <td>False</td>\n",
       "      <td>False</td>\n",
       "      <td>False</td>\n",
       "      <td>False</td>\n",
       "    </tr>\n",
       "    <tr>\n",
       "      <th>3</th>\n",
       "      <td>5500000.0</td>\n",
       "      <td>29130.0</td>\n",
       "      <td>3.0</td>\n",
       "      <td>1600.0</td>\n",
       "      <td>True</td>\n",
       "      <td>False</td>\n",
       "      <td>False</td>\n",
       "      <td>False</td>\n",
       "      <td>False</td>\n",
       "      <td>False</td>\n",
       "      <td>...</td>\n",
       "      <td>False</td>\n",
       "      <td>False</td>\n",
       "      <td>False</td>\n",
       "      <td>False</td>\n",
       "      <td>False</td>\n",
       "      <td>False</td>\n",
       "      <td>False</td>\n",
       "      <td>False</td>\n",
       "      <td>False</td>\n",
       "      <td>False</td>\n",
       "    </tr>\n",
       "    <tr>\n",
       "      <th>4</th>\n",
       "      <td>8000000.0</td>\n",
       "      <td>39720.0</td>\n",
       "      <td>4.0</td>\n",
       "      <td>1500.0</td>\n",
       "      <td>True</td>\n",
       "      <td>False</td>\n",
       "      <td>False</td>\n",
       "      <td>False</td>\n",
       "      <td>False</td>\n",
       "      <td>False</td>\n",
       "      <td>...</td>\n",
       "      <td>False</td>\n",
       "      <td>False</td>\n",
       "      <td>False</td>\n",
       "      <td>False</td>\n",
       "      <td>False</td>\n",
       "      <td>False</td>\n",
       "      <td>False</td>\n",
       "      <td>False</td>\n",
       "      <td>False</td>\n",
       "      <td>False</td>\n",
       "    </tr>\n",
       "  </tbody>\n",
       "</table>\n",
       "<p>5 rows × 143 columns</p>\n",
       "</div>"
      ],
      "text/plain": [
       "   Flat_Price  EMI_Starts  BHK  Total_Sqft  Agarpara  Alipore  Amtala  \\\n",
       "0   4000000.0     21180.0  2.0      1000.0      True    False   False   \n",
       "1   4000000.0     21180.0  2.0      1000.0      True    False   False   \n",
       "2   5500000.0     29130.0  3.0      1600.0      True    False   False   \n",
       "3   5500000.0     29130.0  3.0      1600.0      True    False   False   \n",
       "4   8000000.0     39720.0  4.0      1500.0      True    False   False   \n",
       "\n",
       "   Ariadaha  Ashokgarh  Baghajatin  ...  Sodepur  South Dum Dum  Srirampur  \\\n",
       "0     False      False       False  ...    False          False      False   \n",
       "1     False      False       False  ...    False          False      False   \n",
       "2     False      False       False  ...    False          False      False   \n",
       "3     False      False       False  ...    False          False      False   \n",
       "4     False      False       False  ...    False          False      False   \n",
       "\n",
       "   Taltala  Tangra  Thakurpukur  Tiljala  Tollygunge  Topsia  Ward No 113  \n",
       "0    False   False        False    False       False   False        False  \n",
       "1    False   False        False    False       False   False        False  \n",
       "2    False   False        False    False       False   False        False  \n",
       "3    False   False        False    False       False   False        False  \n",
       "4    False   False        False    False       False   False        False  \n",
       "\n",
       "[5 rows x 143 columns]"
      ]
     },
     "execution_count": 35,
     "metadata": {},
     "output_type": "execute_result"
    }
   ],
   "source": [
    "ds11=ds11.drop('Location',axis='columns')\n",
    "ds11.head()"
   ]
  },
  {
   "cell_type": "code",
   "execution_count": 36,
   "metadata": {
    "colab": {
     "base_uri": "https://localhost:8080/",
     "height": 290
    },
    "id": "2H8-wfLluj6L",
    "outputId": "3bd5240a-9940-462e-d628-e74ecb9f2e2e"
   },
   "outputs": [
    {
     "data": {
      "text/html": [
       "<div>\n",
       "<style scoped>\n",
       "    .dataframe tbody tr th:only-of-type {\n",
       "        vertical-align: middle;\n",
       "    }\n",
       "\n",
       "    .dataframe tbody tr th {\n",
       "        vertical-align: top;\n",
       "    }\n",
       "\n",
       "    .dataframe thead th {\n",
       "        text-align: right;\n",
       "    }\n",
       "</style>\n",
       "<table border=\"1\" class=\"dataframe\">\n",
       "  <thead>\n",
       "    <tr style=\"text-align: right;\">\n",
       "      <th></th>\n",
       "      <th>EMI_Starts</th>\n",
       "      <th>BHK</th>\n",
       "      <th>Total_Sqft</th>\n",
       "      <th>Agarpara</th>\n",
       "      <th>Alipore</th>\n",
       "      <th>Amtala</th>\n",
       "      <th>Ariadaha</th>\n",
       "      <th>Ashokgarh</th>\n",
       "      <th>Baghajatin</th>\n",
       "      <th>Baghbazar</th>\n",
       "      <th>...</th>\n",
       "      <th>Sodepur</th>\n",
       "      <th>South Dum Dum</th>\n",
       "      <th>Srirampur</th>\n",
       "      <th>Taltala</th>\n",
       "      <th>Tangra</th>\n",
       "      <th>Thakurpukur</th>\n",
       "      <th>Tiljala</th>\n",
       "      <th>Tollygunge</th>\n",
       "      <th>Topsia</th>\n",
       "      <th>Ward No 113</th>\n",
       "    </tr>\n",
       "  </thead>\n",
       "  <tbody>\n",
       "    <tr>\n",
       "      <th>0</th>\n",
       "      <td>21180.0</td>\n",
       "      <td>2.0</td>\n",
       "      <td>1000.0</td>\n",
       "      <td>True</td>\n",
       "      <td>False</td>\n",
       "      <td>False</td>\n",
       "      <td>False</td>\n",
       "      <td>False</td>\n",
       "      <td>False</td>\n",
       "      <td>False</td>\n",
       "      <td>...</td>\n",
       "      <td>False</td>\n",
       "      <td>False</td>\n",
       "      <td>False</td>\n",
       "      <td>False</td>\n",
       "      <td>False</td>\n",
       "      <td>False</td>\n",
       "      <td>False</td>\n",
       "      <td>False</td>\n",
       "      <td>False</td>\n",
       "      <td>False</td>\n",
       "    </tr>\n",
       "    <tr>\n",
       "      <th>1</th>\n",
       "      <td>21180.0</td>\n",
       "      <td>2.0</td>\n",
       "      <td>1000.0</td>\n",
       "      <td>True</td>\n",
       "      <td>False</td>\n",
       "      <td>False</td>\n",
       "      <td>False</td>\n",
       "      <td>False</td>\n",
       "      <td>False</td>\n",
       "      <td>False</td>\n",
       "      <td>...</td>\n",
       "      <td>False</td>\n",
       "      <td>False</td>\n",
       "      <td>False</td>\n",
       "      <td>False</td>\n",
       "      <td>False</td>\n",
       "      <td>False</td>\n",
       "      <td>False</td>\n",
       "      <td>False</td>\n",
       "      <td>False</td>\n",
       "      <td>False</td>\n",
       "    </tr>\n",
       "    <tr>\n",
       "      <th>2</th>\n",
       "      <td>29130.0</td>\n",
       "      <td>3.0</td>\n",
       "      <td>1600.0</td>\n",
       "      <td>True</td>\n",
       "      <td>False</td>\n",
       "      <td>False</td>\n",
       "      <td>False</td>\n",
       "      <td>False</td>\n",
       "      <td>False</td>\n",
       "      <td>False</td>\n",
       "      <td>...</td>\n",
       "      <td>False</td>\n",
       "      <td>False</td>\n",
       "      <td>False</td>\n",
       "      <td>False</td>\n",
       "      <td>False</td>\n",
       "      <td>False</td>\n",
       "      <td>False</td>\n",
       "      <td>False</td>\n",
       "      <td>False</td>\n",
       "      <td>False</td>\n",
       "    </tr>\n",
       "    <tr>\n",
       "      <th>3</th>\n",
       "      <td>29130.0</td>\n",
       "      <td>3.0</td>\n",
       "      <td>1600.0</td>\n",
       "      <td>True</td>\n",
       "      <td>False</td>\n",
       "      <td>False</td>\n",
       "      <td>False</td>\n",
       "      <td>False</td>\n",
       "      <td>False</td>\n",
       "      <td>False</td>\n",
       "      <td>...</td>\n",
       "      <td>False</td>\n",
       "      <td>False</td>\n",
       "      <td>False</td>\n",
       "      <td>False</td>\n",
       "      <td>False</td>\n",
       "      <td>False</td>\n",
       "      <td>False</td>\n",
       "      <td>False</td>\n",
       "      <td>False</td>\n",
       "      <td>False</td>\n",
       "    </tr>\n",
       "    <tr>\n",
       "      <th>4</th>\n",
       "      <td>39720.0</td>\n",
       "      <td>4.0</td>\n",
       "      <td>1500.0</td>\n",
       "      <td>True</td>\n",
       "      <td>False</td>\n",
       "      <td>False</td>\n",
       "      <td>False</td>\n",
       "      <td>False</td>\n",
       "      <td>False</td>\n",
       "      <td>False</td>\n",
       "      <td>...</td>\n",
       "      <td>False</td>\n",
       "      <td>False</td>\n",
       "      <td>False</td>\n",
       "      <td>False</td>\n",
       "      <td>False</td>\n",
       "      <td>False</td>\n",
       "      <td>False</td>\n",
       "      <td>False</td>\n",
       "      <td>False</td>\n",
       "      <td>False</td>\n",
       "    </tr>\n",
       "  </tbody>\n",
       "</table>\n",
       "<p>5 rows × 142 columns</p>\n",
       "</div>"
      ],
      "text/plain": [
       "   EMI_Starts  BHK  Total_Sqft  Agarpara  Alipore  Amtala  Ariadaha  \\\n",
       "0     21180.0  2.0      1000.0      True    False   False     False   \n",
       "1     21180.0  2.0      1000.0      True    False   False     False   \n",
       "2     29130.0  3.0      1600.0      True    False   False     False   \n",
       "3     29130.0  3.0      1600.0      True    False   False     False   \n",
       "4     39720.0  4.0      1500.0      True    False   False     False   \n",
       "\n",
       "   Ashokgarh  Baghajatin  Baghbazar  ...  Sodepur  South Dum Dum  Srirampur  \\\n",
       "0      False       False      False  ...    False          False      False   \n",
       "1      False       False      False  ...    False          False      False   \n",
       "2      False       False      False  ...    False          False      False   \n",
       "3      False       False      False  ...    False          False      False   \n",
       "4      False       False      False  ...    False          False      False   \n",
       "\n",
       "   Taltala  Tangra  Thakurpukur  Tiljala  Tollygunge  Topsia  Ward No 113  \n",
       "0    False   False        False    False       False   False        False  \n",
       "1    False   False        False    False       False   False        False  \n",
       "2    False   False        False    False       False   False        False  \n",
       "3    False   False        False    False       False   False        False  \n",
       "4    False   False        False    False       False   False        False  \n",
       "\n",
       "[5 rows x 142 columns]"
      ]
     },
     "execution_count": 36,
     "metadata": {},
     "output_type": "execute_result"
    }
   ],
   "source": [
    "#removing dependent variables\n",
    "X=ds11.drop('Flat_Price',axis='columns')\n",
    "X.head(5)"
   ]
  },
  {
   "cell_type": "code",
   "execution_count": 37,
   "metadata": {
    "colab": {
     "base_uri": "https://localhost:8080/"
    },
    "id": "kmNqzw5OvK8q",
    "outputId": "67030b79-fb58-4e73-bb18-0dd4233dad45"
   },
   "outputs": [
    {
     "data": {
      "text/plain": [
       "0    4000000.0\n",
       "1    4000000.0\n",
       "2    5500000.0\n",
       "3    5500000.0\n",
       "4    8000000.0\n",
       "Name: Flat_Price, dtype: float64"
      ]
     },
     "execution_count": 37,
     "metadata": {},
     "output_type": "execute_result"
    }
   ],
   "source": [
    "Y=ds11.Flat_Price\n",
    "Y.head(5)"
   ]
  },
  {
   "cell_type": "code",
   "execution_count": 38,
   "metadata": {
    "id": "W6H4tRTrvjxp"
   },
   "outputs": [],
   "source": [
    "from sklearn.model_selection import train_test_split\n",
    "X_train,X_test,Y_train,Y_test=train_test_split(X,Y,test_size=0.2,random_state=10)  #20% test samples (0.2) and 80% model training"
   ]
  },
  {
   "cell_type": "code",
   "execution_count": 39,
   "metadata": {
    "colab": {
     "base_uri": "https://localhost:8080/"
    },
    "id": "8qA6mRrJv-Ly",
    "outputId": "074367c9-5ab8-4cec-885e-9a1d43f099e3"
   },
   "outputs": [
    {
     "data": {
      "text/plain": [
       "0.9999717484793975"
      ]
     },
     "execution_count": 39,
     "metadata": {},
     "output_type": "execute_result"
    }
   ],
   "source": [
    "from sklearn.linear_model import LinearRegression\n",
    "classifier = LinearRegression()\n",
    "classifier.fit(X_train,Y_train)\n",
    "classifier.score(X_test,Y_test)"
   ]
  },
  {
   "cell_type": "code",
   "execution_count": 40,
   "metadata": {
    "colab": {
     "base_uri": "https://localhost:8080/"
    },
    "id": "4vkEoIP_xE4-",
    "outputId": "d6715b7d-8eef-4de8-a3d4-1ce9872a9171"
   },
   "outputs": [
    {
     "data": {
      "text/plain": [
       "array([0.99996839, 0.99994715, 0.99994701, 0.99995904, 0.999953  ])"
      ]
     },
     "execution_count": 40,
     "metadata": {},
     "output_type": "execute_result"
    }
   ],
   "source": [
    "#creating Shuffle split for cross validation which randomizes the sample\n",
    "from sklearn.model_selection import ShuffleSplit\n",
    "from sklearn.model_selection import cross_val_score\n",
    "\n",
    "cv = ShuffleSplit(n_splits=5, test_size=0.2, random_state=0)\n",
    "\n",
    "cross_val_score(LinearRegression(), X, Y, cv=cv)"
   ]
  },
  {
   "cell_type": "code",
   "execution_count": 43,
   "metadata": {
    "id": "GPo4QAzHyofj"
   },
   "outputs": [],
   "source": [
    "def price_pred(Region,Total_Sqft,BHK,EMI_Starts):\n",
    "  loc_index = np.where(X.columns==Region)[0][0]\n",
    "\n",
    "  a=np.zeros(len(X.columns))\n",
    "  a[0]=Total_Sqft\n",
    "  a[1]=BHK\n",
    "  #a[2]=EMI_Starts\n",
    "  if loc_index >= 0:\n",
    "    a[loc_index] = 1\n",
    "\n",
    "  return classifier.predict([a])[0]"
   ]
  },
  {
   "cell_type": "code",
   "execution_count": 44,
   "metadata": {
    "colab": {
     "base_uri": "https://localhost:8080/"
    },
    "id": "6BnIAiQozbPK",
    "outputId": "af578473-f954-4ee0-ab7d-cde9daeb7874"
   },
   "outputs": [
    {
     "name": "stderr",
     "output_type": "stream",
     "text": [
      "C:\\Users\\user\\AppData\\Local\\Programs\\Python\\Python310\\lib\\site-packages\\sklearn\\base.py:493: UserWarning: X does not have valid feature names, but LinearRegression was fitted with feature names\n",
      "  warnings.warn(\n"
     ]
    },
    {
     "data": {
      "text/plain": [
       "-138722.2035710915"
      ]
     },
     "execution_count": 44,
     "metadata": {},
     "output_type": "execute_result"
    }
   ],
   "source": [
    "price_pred('Agarpara',1000,2,20000)"
   ]
  },
  {
   "cell_type": "code",
   "execution_count": 45,
   "metadata": {
    "colab": {
     "base_uri": "https://localhost:8080/"
    },
    "id": "ycIqaMNq0cwF",
    "outputId": "76f9b138-a5fd-4bc9-bef7-f591bb46a510"
   },
   "outputs": [
    {
     "name": "stderr",
     "output_type": "stream",
     "text": [
      "C:\\Users\\user\\AppData\\Local\\Programs\\Python\\Python310\\lib\\site-packages\\sklearn\\base.py:493: UserWarning: X does not have valid feature names, but LinearRegression was fitted with feature names\n",
      "  warnings.warn(\n"
     ]
    },
    {
     "data": {
      "text/plain": [
       "72446.92023291881"
      ]
     },
     "execution_count": 45,
     "metadata": {},
     "output_type": "execute_result"
    }
   ],
   "source": [
    "price_pred('Garia',1200,3,20000)"
   ]
  },
  {
   "cell_type": "code",
   "execution_count": 46,
   "metadata": {
    "colab": {
     "base_uri": "https://localhost:8080/"
    },
    "id": "EWBsXuTK1f7O",
    "outputId": "1ed4f030-276e-4061-ce93-00d45e71afb0"
   },
   "outputs": [
    {
     "name": "stderr",
     "output_type": "stream",
     "text": [
      "C:\\Users\\user\\AppData\\Local\\Programs\\Python\\Python310\\lib\\site-packages\\sklearn\\base.py:493: UserWarning: X does not have valid feature names, but LinearRegression was fitted with feature names\n",
      "  warnings.warn(\n"
     ]
    },
    {
     "data": {
      "text/plain": [
       "19956.85221502016"
      ]
     },
     "execution_count": 46,
     "metadata": {},
     "output_type": "execute_result"
    }
   ],
   "source": [
    "price_pred('Barrackpore',1400,3,22000)"
   ]
  },
  {
   "cell_type": "code",
   "execution_count": 45,
   "metadata": {
    "id": "mqX47FlB2JJV"
   },
   "outputs": [],
   "source": [
    "#Exporting to pickle file\n",
    "import pickle\n",
    "with open('west_bengal_estate_price.pickle','wb') as f:\n",
    "  pickle.dump(classifier,f)"
   ]
  },
  {
   "cell_type": "code",
   "execution_count": 46,
   "metadata": {
    "id": "TSknq__t4hUj"
   },
   "outputs": [],
   "source": [
    "import json\n",
    "columns = {\n",
    "    'data_columns' : [col.lower() for col in X.columns]\n",
    "}\n",
    "with open(\"columns.json\",\"w\") as f:\n",
    "  f.write(json.dumps(columns))"
   ]
  },
  {
   "cell_type": "code",
   "execution_count": 49,
   "metadata": {
    "colab": {
     "base_uri": "https://localhost:8080/"
    },
    "id": "1soZF1LL5Xw0",
    "outputId": "2078ea03-317e-492b-d6d0-44d1c03562ba"
   },
   "outputs": [
    {
     "name": "stdout",
     "output_type": "stream",
     "text": [
      "Starting Python Flask Server For House Price Prediction\n",
      " * Serving Flask app '__main__'\n",
      " * Debug mode: off\n"
     ]
    },
    {
     "name": "stderr",
     "output_type": "stream",
     "text": [
      "WARNING: This is a development server. Do not use it in a production deployment. Use a production WSGI server instead.\n",
      " * Running on http://127.0.0.1:5000\n",
      "Press CTRL+C to quit\n",
      "127.0.0.1 - - [02/Jul/2024 10:04:31] \"GET / HTTP/1.1\" 404 -\n",
      "127.0.0.1 - - [02/Jul/2024 10:04:32] \"GET /favicon.ico HTTP/1.1\" 404 -\n",
      "127.0.0.1 - - [02/Jul/2024 10:05:18] \"GET /hello HTTP/1.1\" 200 -\n"
     ]
    }
   ],
   "source": [
    "#Flask-Server\n",
    "\"\"\"from flask import Flask,request,jsonify\n",
    "app= Flask(__name__)\n",
    "\n",
    "@app.route('/get_location')\n",
    "def get_location():\n",
    "  response=jsonify({\n",
    "      'Region': util.get_location()\n",
    "  })\n",
    "    response.headers.add('Access-Control-Allow-Origin','*')\n",
    "\n",
    "if __name__=='__main__':\n",
    "  print(\"Starting Python Flask Server For House Price Prediction\")\n",
    "  app.run()\"\"\""
   ]
  },
  {
   "cell_type": "code",
   "execution_count": null,
   "metadata": {},
   "outputs": [],
   "source": []
  },
  {
   "cell_type": "code",
   "execution_count": null,
   "metadata": {
    "id": "TcToRNlvgx8z"
   },
   "outputs": [],
   "source": [
    "#ds4['Flat_Price']=ds4['Flat_Price'].strip(\" \")\n",
    "#ds4['EMI_Starts']=ds4['EMI_Starts'].strip(\" \")\n",
    "#ds4.head()"
   ]
  },
  {
   "cell_type": "code",
   "execution_count": null,
   "metadata": {
    "id": "Tl5vwgcNdkBj"
   },
   "outputs": [],
   "source": [
    "#ds4['Price']=ds4['Flat_Price'].apply(lambda x:(denom := x.find('L'),\n",
    "            #float(x[:denom].strip(\" \"))*100000 if denom!=-1 else float(x[:x.find('Cr')].strip(\" \"))*10000000 ))\n",
    "#ds4.head()"
   ]
  }
 ],
 "metadata": {
  "colab": {
   "provenance": []
  },
  "kernelspec": {
   "display_name": "Python 3 (ipykernel)",
   "language": "python",
   "name": "python3"
  },
  "language_info": {
   "codemirror_mode": {
    "name": "ipython",
    "version": 3
   },
   "file_extension": ".py",
   "mimetype": "text/x-python",
   "name": "python",
   "nbconvert_exporter": "python",
   "pygments_lexer": "ipython3",
   "version": "3.10.0"
  }
 },
 "nbformat": 4,
 "nbformat_minor": 4
}
